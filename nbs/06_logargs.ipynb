{
 "cells": [
  {
   "cell_type": "code",
   "execution_count": null,
   "metadata": {},
   "outputs": [],
   "source": [
    "#default_exp logargs"
   ]
  },
  {
   "cell_type": "code",
   "execution_count": null,
   "metadata": {},
   "outputs": [],
   "source": [
    "#export\n",
    "from fastcore.imports import *\n",
    "from fastcore.foundation import *\n",
    "from fastcore.meta import *\n",
    "from functools import wraps\n",
    "import inspect"
   ]
  },
  {
   "cell_type": "code",
   "execution_count": null,
   "metadata": {},
   "outputs": [],
   "source": [
    "from fastcore.test import *\n",
    "from nbdev.showdoc import *\n",
    "from fastcore.nb_imports import *"
   ]
  },
  {
   "cell_type": "markdown",
   "metadata": {},
   "source": [
    "# log_args\n",
    "\n",
    "> Decorator to log function args in 'to.init_args'"
   ]
  },
  {
   "cell_type": "markdown",
   "metadata": {},
   "source": [
    "Note that this module may be removed in a future version. Use `store_attr` instead where possible."
   ]
  },
  {
   "cell_type": "code",
   "execution_count": null,
   "metadata": {},
   "outputs": [],
   "source": [
    "#export\n",
    "def log_args(f=None, *, to_return=False, but=None, but_as=None):\n",
    "    \"Decorator to log function args in 'to.init_args'\"\n",
    "    if f is None: return partial(log_args, to_return=to_return, but=but, but_as=but_as)\n",
    "\n",
    "    if inspect.isclass(f):\n",
    "        f.__init__ = log_args(f.__init__, to_return=to_return, but=but, but_as=but_as)\n",
    "        return f\n",
    "\n",
    "    but_as_args = L(getattr(b, '_log_args_but', None) for b in L(but_as)).concat()\n",
    "    but = (L(but.split(',') if but else None) + but_as_args + L('self')).unique()\n",
    "    but_not_found = L(b for b in L(but_as) if not hasattr(b, '_log_args_but'))\n",
    "    if but_not_found: print(f'Did not find but_as with {f.__qualname__} in {[b.__qualname__ for b in but_not_found]}')\n",
    "    setattr(f, '_log_args_but', but)\n",
    "\n",
    "    @wraps(f)  # maintain original signature\n",
    "    def _f(*args, **kwargs):\n",
    "        f_insp,args_insp = f,args\n",
    "        xtra_kwargs = {}\n",
    "        # some functions don't have correct signature (e.g. functions with @delegates such as Datasets.__init__)\n",
    "        if '__init__' in f.__qualname__:\n",
    "            # from https://stackoverflow.com/a/25959545/3474490\n",
    "            # args[0].__class__ would not consider inheritance\n",
    "            cls = getattr(inspect.getmodule(f), f.__qualname__.split('.<locals>', 1)[0].rsplit('.', 1)[0])\n",
    "            f_insp, args_insp = cls, args[1:]\n",
    "        try: func_args = inspect.signature(f_insp).bind(*args_insp, **kwargs)\n",
    "        except Exception as e:\n",
    "            try:\n",
    "                # sometimes it happens because the signature does not reference some kwargs\n",
    "                sigp = dict(inspect.signature(f_insp).parameters)\n",
    "                key_no_sig = set(kwargs.keys())-set(sigp.keys())\n",
    "                #if key_no_sig: print(f'Warning: @log_args found unexpected args in {f.__qualname__}: {key_no_sig}')\n",
    "                xtra_kwargs={k:kwargs.pop(k) for k in key_no_sig}\n",
    "                func_args = inspect.signature(f_insp).bind(*args_insp, **kwargs)\n",
    "            except:\n",
    "                #print(f'@log_args had an issue on {f.__qualname__} -> {e}')\n",
    "                return f(*args, **kwargs)\n",
    "        func_args.apply_defaults()\n",
    "        log_dict = {**func_args.arguments, **{f'{k} (not in signature)':v for k,v in xtra_kwargs.items()}}\n",
    "        log = {f'{f.__qualname__}.{k}':v for k,v in log_dict.items() if k not in but}\n",
    "        inst = f(*args, **kwargs) if to_return else args[0]\n",
    "        init_args = getattr(inst, 'init_args', {})\n",
    "        init_args.update(log)\n",
    "        setattr(inst, 'init_args', init_args)\n",
    "        return inst if to_return else f(*args, **kwargs)\n",
    "    return _f"
   ]
  },
  {
   "cell_type": "code",
   "execution_count": null,
   "metadata": {},
   "outputs": [],
   "source": [
    "class tst:\n",
    "    @log_args\n",
    "    def __init__(self, a, b, c=3, d=4):\n",
    "        pass\n",
    "test_eq(tst(1,2).init_args, {f'tst.__init__.{k}':v for k,v in dict(a=1,b=2,c=3,d=4).items()})"
   ]
  },
  {
   "cell_type": "markdown",
   "metadata": {},
   "source": [
    "Use `log_args` to save function args in `to.init_args`. Optional args are:\n",
    "\n",
    "* `to_return`: applies to return value if True (for functions), otherwise to `self` (for class instances)\n",
    "* `but`: args that we do not want to save separated by ','\n",
    "* `but_as`: pull `but` arg from another `log_args` (which cannot have used `to_return=True`)\n",
    "\n",
    "Notes:\n",
    "\n",
    "* `@log_args` needs to be placed below `@patch` and above `@funcs_kwargs` or `@delegates`\n",
    "* when wrapping a class, it will wrap its `__init__` method"
   ]
  },
  {
   "cell_type": "code",
   "execution_count": null,
   "metadata": {},
   "outputs": [],
   "source": [
    "class tst:\n",
    "    @log_args\n",
    "    def __init__(self, a, b, c=3, d=4): pass\n",
    "test_eq(tst(1,2).init_args, {f'tst.__init__.{k}':v for k,v in dict(a=1,b=2,c=3,d=4).items()})\n",
    "\n",
    "@log_args\n",
    "class tst:\n",
    "    def __init__(self, a, b, c=3, d=4): pass\n",
    "test_eq(tst(1,2).init_args, {f'tst.__init__.{k}':v for k,v in dict(a=1,b=2,c=3,d=4).items()})\n",
    "\n",
    "@log_args(but='a,c')\n",
    "class tst:\n",
    "    def __init__(self, a, b, c=3, d=4): pass\n",
    "test_eq(tst(1,2).init_args, {f'tst.__init__.{k}':v for k,v in dict(b=2,d=4).items()})\n",
    "\n",
    "class tst: pass\n",
    "@log_args(to_return=True)\n",
    "def tst_f(a,b): return tst\n",
    "test_eq(tst_f(1,2).init_args, {f'tst_f.{k}':v for k,v in dict(a=1,b=2).items()})\n",
    "\n",
    "@log_args\n",
    "@funcs_kwargs\n",
    "class tst:\n",
    "    _methods='a'.split()    \n",
    "    def __init__(self, **kwargs): pass\n",
    "test_eq(tst(a=noop).init_args['tst.__init__.a'], noop)"
   ]
  },
  {
   "cell_type": "code",
   "execution_count": null,
   "metadata": {},
   "outputs": [],
   "source": [
    "class tst_base:\n",
    "    def __init__(self, a=None): pass\n",
    "\n",
    "@log_args\n",
    "@delegates(tst_base)\n",
    "class tst:\n",
    "    def __init__(self, **kwargs): pass\n",
    "test_eq(tst(a=1).init_args['tst.__init__.a'], 1)\n",
    "\n",
    "@log_args\n",
    "class tst_parent:\n",
    "    def __init__(self, a): pass"
   ]
  },
  {
   "cell_type": "code",
   "execution_count": null,
   "metadata": {},
   "outputs": [],
   "source": [
    "@log_args\n",
    "class tst(tst_parent):\n",
    "    def __init__(self, b): super().__init__(a=b)\n",
    "test_eq(tst(1).init_args, {'tst_parent.__init__.a': 1, 'tst.__init__.b': 1})\n",
    "\n",
    "class tst_ref:\n",
    "    def __init__(self, a, b, c, d): pass\n",
    "\n",
    "class tst:\n",
    "    def __init__(self, a=1, b=2, c=3, d=4): pass\n",
    "test_stdout(lambda: log_args(tst, but_as=tst_ref.__init__),\n",
    "            \"Did not find but_as with tst.__init__ in ['tst_ref.__init__']\")"
   ]
  },
  {
   "cell_type": "code",
   "execution_count": null,
   "metadata": {},
   "outputs": [],
   "source": [
    "@log_args(but='a,b')\n",
    "class tst_ref:\n",
    "    def __init__(self, a, b, c, d): pass\n",
    "\n",
    "@log_args(but_as=tst_ref.__init__)\n",
    "class tst:\n",
    "    def __init__(self, a=1, b=2, c=3, d=4):\n",
    "        pass\n",
    "test_eq(tst().init_args, {'tst.__init__.c': 3, 'tst.__init__.d': 4})\n",
    "\n",
    "@log_args(but='a,b')\n",
    "class tst_ref:\n",
    "    def __init__(self, a, b, c, d): pass\n",
    "\n",
    "@log_args(but='c', but_as=tst_ref.__init__)\n",
    "class tst:\n",
    "    def __init__(self, a=1, b=2, c=3, d=4): pass\n",
    "test_eq(tst().init_args, {'tst.__init__.d': 4})"
   ]
  },
  {
   "cell_type": "markdown",
   "metadata": {},
   "source": [
    "# Export -"
   ]
  },
  {
   "cell_type": "code",
   "execution_count": null,
   "metadata": {},
   "outputs": [
    {
     "name": "stdout",
     "output_type": "stream",
     "text": [
      "Converted 00_test.ipynb.\n",
      "Converted 01_foundation.ipynb.\n",
      "Converted 02_utils.ipynb.\n",
      "Converted 03_dispatch.ipynb.\n",
      "Converted 04_transform.ipynb.\n",
      "Converted 05_logargs.ipynb.\n",
      "Converted 06_meta.ipynb.\n",
      "Converted index.ipynb.\n"
     ]
    }
   ],
   "source": [
    "#hide\n",
    "from nbdev.export import notebook2script\n",
    "notebook2script()"
   ]
  },
  {
   "cell_type": "code",
   "execution_count": null,
   "metadata": {},
   "outputs": [],
   "source": []
  }
 ],
 "metadata": {
  "jupytext": {
   "split_at_heading": true
  },
  "kernelspec": {
   "display_name": "Python 3",
   "language": "python",
   "name": "python3"
  }
 },
 "nbformat": 4,
 "nbformat_minor": 4
}
