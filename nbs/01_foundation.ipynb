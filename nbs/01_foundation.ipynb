{
 "cells": [
  {
   "cell_type": "code",
   "execution_count": null,
   "metadata": {},
   "outputs": [],
   "source": [
    "#default_exp foundation"
   ]
  },
  {
   "cell_type": "code",
   "execution_count": null,
   "metadata": {},
   "outputs": [],
   "source": [
    "#export\n",
    "from fastcore.imports import *\n",
    "from functools import lru_cache\n",
    "from contextlib import contextmanager\n",
    "from copy import copy\n",
    "from configparser import ConfigParser\n",
    "import random,pickle"
   ]
  },
  {
   "cell_type": "code",
   "execution_count": null,
   "metadata": {},
   "outputs": [],
   "source": [
    "from fastcore.test import *\n",
    "from nbdev.showdoc import *\n",
    "from fastcore.nb_imports import *\n",
    "import inspect"
   ]
  },
  {
   "cell_type": "markdown",
   "metadata": {},
   "source": [
    "# Core\n",
    "\n",
    "> Basic functions used in the fastai library"
   ]
  },
  {
   "cell_type": "code",
   "execution_count": null,
   "metadata": {},
   "outputs": [],
   "source": [
    "# export\n",
    "defaults = SimpleNamespace()"
   ]
  },
  {
   "cell_type": "markdown",
   "metadata": {},
   "source": [
    "## Foundational Functions"
   ]
  },
  {
   "cell_type": "code",
   "execution_count": null,
   "metadata": {},
   "outputs": [],
   "source": [
    "#export\n",
    "def copy_func(f):\n",
    "    \"Copy a non-builtin function (NB `copy.copy` does not work for this)\"\n",
    "    if not isinstance(f,FunctionType): return copy(f)\n",
    "    fn = FunctionType(f.__code__, f.__globals__, f.__name__, f.__defaults__, f.__closure__)\n",
    "    fn.__kwdefaults__ = f.__kwdefaults__\n",
    "    fn.__dict__.update(f.__dict__)\n",
    "    return fn"
   ]
  },
  {
   "cell_type": "markdown",
   "metadata": {},
   "source": [
    "Sometimes it may be desirable to make a copy of a function that doesn't point to the original object.  When you use Python's built in `copy.copy` or `copy.deepcopy` to copy a function, you get a reference to the original object:"
   ]
  },
  {
   "cell_type": "code",
   "execution_count": null,
   "metadata": {},
   "outputs": [],
   "source": [
    "import copy as cp\n",
    "def foo(): pass\n",
    "a = cp.copy(foo)\n",
    "b = cp.deepcopy(foo)\n",
    "\n",
    "a.someattr = 'hello' # since a and b point at the same object, updating a will update b\n",
    "test_eq(b.someattr, 'hello')\n",
    "\n",
    "assert a is foo and b is foo"
   ]
  },
  {
   "cell_type": "markdown",
   "metadata": {},
   "source": [
    "However, with `copy_func`, you can retrieve a copy of a function without a reference to the original object:"
   ]
  },
  {
   "cell_type": "code",
   "execution_count": null,
   "metadata": {},
   "outputs": [],
   "source": [
    "c = copy_func(foo) # c is an indpendent object\n",
    "assert c is not foo"
   ]
  },
  {
   "cell_type": "code",
   "execution_count": null,
   "metadata": {},
   "outputs": [],
   "source": [
    "def g(x, *, y=3):\n",
    "    return x+y\n",
    "test_eq(copy_func(g)(4), 7)"
   ]
  },
  {
   "cell_type": "code",
   "execution_count": null,
   "metadata": {},
   "outputs": [],
   "source": [
    "#export\n",
    "def patch_to(cls, as_prop=False, cls_method=False):\n",
    "    \"Decorator: add `f` to `cls`\"\n",
    "    if not isinstance(cls, (tuple,list)): cls=(cls,)\n",
    "    def _inner(f):\n",
    "        for c_ in cls:\n",
    "            nf = copy_func(f)\n",
    "            # `functools.update_wrapper` when passing patched function to `Pipeline`, so we do it manually\n",
    "            for o in functools.WRAPPER_ASSIGNMENTS: setattr(nf, o, getattr(f,o))\n",
    "            nf.__qualname__ = f\"{c_.__name__}.{f.__name__}\"\n",
    "            if cls_method:\n",
    "                setattr(c_, f.__name__, MethodType(nf, c_))\n",
    "            else:\n",
    "                setattr(c_, f.__name__, property(nf) if as_prop else nf)\n",
    "        return f\n",
    "    return _inner"
   ]
  },
  {
   "cell_type": "markdown",
   "metadata": {},
   "source": [
    "The `@patch_to` decorator allows you to [monkey patch](https://stackoverflow.com/questions/5626193/what-is-monkey-patching) a function into a class as a method:"
   ]
  },
  {
   "cell_type": "code",
   "execution_count": null,
   "metadata": {},
   "outputs": [],
   "source": [
    "class _T3(int): pass  \n",
    "\n",
    "@patch_to(_T3)\n",
    "def func1(self, a): return self+a\n",
    "\n",
    "t = _T3(1) # we initilized `t` to a type int = 1\n",
    "test_eq(t.func1(2), 3) # we add 2 to `t`, so 2 + 1 = 3"
   ]
  },
  {
   "cell_type": "markdown",
   "metadata": {},
   "source": [
    "You can access instance properties in the usual way via `self`:"
   ]
  },
  {
   "cell_type": "code",
   "execution_count": null,
   "metadata": {},
   "outputs": [],
   "source": [
    "class _T4():\n",
    "    def __init__(self, g): self.g = g\n",
    "        \n",
    "@patch_to(_T4)\n",
    "def greet(self, x): return self.g + x\n",
    "        \n",
    "t = _T4('hello ') # this sets self.g = 'helllo '\n",
    "test_eq(t.greet('world'), 'hello world') #t.greet('world') will append 'world' to 'hello '"
   ]
  },
  {
   "cell_type": "markdown",
   "metadata": {},
   "source": [
    "You can instead specify that the method should be a class method by setting `cls_method=True`:"
   ]
  },
  {
   "cell_type": "code",
   "execution_count": null,
   "metadata": {},
   "outputs": [],
   "source": [
    "class _T5(int): attr = 3 # attr is a class attribute we will access in a later method\n",
    "    \n",
    "@patch_to(_T5, cls_method=True)\n",
    "def func(cls, x): return cls.attr + x # you can access class attributes in the normal way\n",
    "\n",
    "test_eq(_T5.func(4), 7)"
   ]
  },
  {
   "cell_type": "markdown",
   "metadata": {},
   "source": [
    "Additionally you can specify that the function you want to patch should be a class attribute with `as_prop` = False"
   ]
  },
  {
   "cell_type": "code",
   "execution_count": null,
   "metadata": {},
   "outputs": [],
   "source": [
    "@patch_to(_T5, as_prop=True)\n",
    "def add_ten(self): return self + 10\n",
    "\n",
    "t = _T5(4)\n",
    "test_eq(t.add_ten, 14)"
   ]
  },
  {
   "cell_type": "markdown",
   "metadata": {},
   "source": [
    "Instead of passing one class to the `@patch_to` decorator, you can pass multiple classes in a tuple to simulteanously patch more than one class with the same method:"
   ]
  },
  {
   "cell_type": "code",
   "execution_count": null,
   "metadata": {},
   "outputs": [],
   "source": [
    "class _T6(int): pass\n",
    "class _T7(int): pass\n",
    "\n",
    "@patch_to((_T6,_T7))\n",
    "def func_mult(self, a): return self*a\n",
    "\n",
    "t = _T6(2)\n",
    "test_eq(t.func_mult(4), 8)\n",
    "t = _T7(2)\n",
    "test_eq(t.func_mult(4), 8)"
   ]
  },
  {
   "cell_type": "code",
   "execution_count": null,
   "metadata": {},
   "outputs": [],
   "source": [
    "#export\n",
    "def patch(f=None, *, as_prop=False, cls_method=False):\n",
    "    \"Decorator: add `f` to the first parameter's class (based on f's type annotations)\"\n",
    "    if f is None: return partial(patch, as_prop=as_prop, cls_method=cls_method)\n",
    "    cls = next(iter(f.__annotations__.values()))\n",
    "    return patch_to(cls, as_prop=as_prop, cls_method=cls_method)(f)"
   ]
  },
  {
   "cell_type": "markdown",
   "metadata": {},
   "source": [
    "`@patch` is an alternative to `@patch_to` that allows you similarly monkey patch class(es) by using [type annotations](https://docs.python.org/3/library/typing.html):"
   ]
  },
  {
   "cell_type": "code",
   "execution_count": null,
   "metadata": {},
   "outputs": [],
   "source": [
    "class _T8(int): pass  \n",
    "\n",
    "@patch\n",
    "def func(self:_T8, a): return self+a\n",
    "\n",
    "t = _T8(1)  # we initilized `t` to a type int = 1\n",
    "test_eq(t.func(3), 4) # we add 3 to `t`, so 3 + 1 = 4\n",
    "test_eq(t.func.__qualname__, '_T8.func')"
   ]
  },
  {
   "cell_type": "markdown",
   "metadata": {},
   "source": [
    "Similarly to `patch_to`, you can supply a tuple of classes instead of a single class in your type annotations to patch multiple classes:"
   ]
  },
  {
   "cell_type": "code",
   "execution_count": null,
   "metadata": {},
   "outputs": [],
   "source": [
    "class _T9(int): pass \n",
    "\n",
    "@patch\n",
    "def func2(x:(_T8,_T9), a): return x*a # will patch both _T8 and _T9\n",
    "\n",
    "t = _T8(2)\n",
    "test_eq(t.func2(4), 8)\n",
    "test_eq(t.func2.__qualname__, '_T8.func2')\n",
    "\n",
    "t = _T9(2)\n",
    "test_eq(t.func2(4), 8)\n",
    "test_eq(t.func2.__qualname__, '_T9.func2')"
   ]
  },
  {
   "cell_type": "markdown",
   "metadata": {},
   "source": [
    "Just like `patch_to` decorator you can use `as_propas_prop` and `cls_method` parameters with `patch` decorator:"
   ]
  },
  {
   "cell_type": "code",
   "execution_count": null,
   "metadata": {},
   "outputs": [],
   "source": [
    "@patch(as_prop=True)\n",
    "def add_ten(self:_T5): return self + 10\n",
    "\n",
    "t = _T5(4)\n",
    "test_eq(t.add_ten, 14)"
   ]
  },
  {
   "cell_type": "code",
   "execution_count": null,
   "metadata": {},
   "outputs": [],
   "source": [
    "class _T5(int): attr = 3 # attr is a class attribute we will access in a later method\n",
    "    \n",
    "@patch(cls_method=True)\n",
    "def func(cls:_T5, x): return cls.attr + x # you can access class attributes in the normal way\n",
    "\n",
    "test_eq(_T5.func(4), 7)"
   ]
  },
  {
   "cell_type": "code",
   "execution_count": null,
   "metadata": {},
   "outputs": [],
   "source": [
    "#export\n",
    "def patch_property(f):\n",
    "    \"Deprecated; use `patch(as_prop=True)` instead\"\n",
    "    warnings.warn(\"`patch_property` is deprecated and will be removed; use `patch(as_prop=True)` instead\")\n",
    "    cls = next(iter(f.__annotations__.values()))\n",
    "    return patch_to(cls, as_prop=True)(f)"
   ]
  },
  {
   "cell_type": "code",
   "execution_count": null,
   "metadata": {},
   "outputs": [],
   "source": [
    "@contextmanager\n",
    "def working_directory(path):\n",
    "    \"Change working directory to `path` and return to previous on exit.\"\n",
    "    prev_cwd = Path.cwd()\n",
    "    os.chdir(path)\n",
    "    try: yield\n",
    "    finally: os.chdir(prev_cwd)"
   ]
  },
  {
   "cell_type": "code",
   "execution_count": null,
   "metadata": {},
   "outputs": [],
   "source": [
    "#export\n",
    "def add_docs(cls, cls_doc=None, **docs):\n",
    "    \"Copy values from `docs` to `cls` docstrings, and confirm all public methods are documented\"\n",
    "    if cls_doc is not None: cls.__doc__ = cls_doc\n",
    "    for k,v in docs.items():\n",
    "        f = getattr(cls,k)\n",
    "        if hasattr(f,'__func__'): f = f.__func__ # required for class methods\n",
    "        f.__doc__ = v\n",
    "    # List of public callables without docstring\n",
    "    nodoc = [c for n,c in vars(cls).items() if callable(c)\n",
    "             and not n.startswith('_') and c.__doc__ is None]\n",
    "    assert not nodoc, f\"Missing docs: {nodoc}\"\n",
    "    assert cls.__doc__ is not None, f\"Missing class docs: {cls}\""
   ]
  },
  {
   "cell_type": "markdown",
   "metadata": {},
   "source": [
    "`add_docs` allows you to add docstrings to a class and its associated methods.  This function allows you to group docstrings together seperate from your code, which enables you to define one-line functions as well as organize your code more succintly. We believe this confers a number of benefits which we discuss in [our style guide](https://docs.fast.ai/dev/style.html).\n",
    "\n",
    "Suppose you have the following undocumented class:"
   ]
  },
  {
   "cell_type": "code",
   "execution_count": null,
   "metadata": {},
   "outputs": [],
   "source": [
    "class T:\n",
    "    def foo(self): pass\n",
    "    def bar(self): pass"
   ]
  },
  {
   "cell_type": "markdown",
   "metadata": {},
   "source": [
    "You can add documentation to this class like so:"
   ]
  },
  {
   "cell_type": "code",
   "execution_count": null,
   "metadata": {},
   "outputs": [],
   "source": [
    "add_docs(T, cls_doc=\"A docstring for the class.\",\n",
    "            foo=\"The foo method.\",\n",
    "            bar=\"The bar method.\")"
   ]
  },
  {
   "cell_type": "markdown",
   "metadata": {},
   "source": [
    "Now, docstrings will appear as expected:"
   ]
  },
  {
   "cell_type": "code",
   "execution_count": null,
   "metadata": {},
   "outputs": [],
   "source": [
    "test_eq(T.__doc__, \"A docstring for the class.\")\n",
    "test_eq(T.foo.__doc__, \"The foo method.\")\n",
    "test_eq(T.bar.__doc__, \"The bar method.\")"
   ]
  },
  {
   "cell_type": "markdown",
   "metadata": {},
   "source": [
    "`add_docs` also validates that all of  your public methods contain a docstring.  If one of your methods is not documented, it will raise an error:"
   ]
  },
  {
   "cell_type": "code",
   "execution_count": null,
   "metadata": {},
   "outputs": [],
   "source": [
    "class T:\n",
    "    def foo(self): pass\n",
    "    def bar(self): pass\n",
    "\n",
    "f=lambda: add_docs(T, \"A docstring for the class.\", foo=\"The foo method.\")\n",
    "test_fail(f, contains=\"Missing docs\")"
   ]
  },
  {
   "cell_type": "code",
   "execution_count": null,
   "metadata": {},
   "outputs": [],
   "source": [
    "#hide\n",
    "class _T:\n",
    "    def f(self): pass\n",
    "    @classmethod\n",
    "    def g(cls): pass\n",
    "add_docs(_T, \"a\", f=\"f\", g=\"g\")\n",
    "\n",
    "test_eq(_T.__doc__, \"a\")\n",
    "test_eq(_T.f.__doc__, \"f\")\n",
    "test_eq(_T.g.__doc__, \"g\")"
   ]
  },
  {
   "cell_type": "code",
   "execution_count": null,
   "metadata": {},
   "outputs": [],
   "source": [
    "#export\n",
    "def docs(cls):\n",
    "    \"Decorator version of `add_docs`, using `_docs` dict\"\n",
    "    add_docs(cls, **cls._docs)\n",
    "    return cls"
   ]
  },
  {
   "cell_type": "markdown",
   "metadata": {},
   "source": [
    "Instead of using `add_docs`, you can use the decorator `docs` as shown below.  Note that the docstring for the class can be set with the argument `cls_doc`:"
   ]
  },
  {
   "cell_type": "code",
   "execution_count": null,
   "metadata": {},
   "outputs": [],
   "source": [
    "@docs\n",
    "class _T:\n",
    "    def f(self): pass\n",
    "    def g(cls): pass\n",
    "    \n",
    "    _docs = dict(cls_doc=\"The class docstring\", \n",
    "                 f=\"The docstring for method f.\",\n",
    "                 g=\"A different docstring for method g.\")\n",
    "\n",
    "    \n",
    "test_eq(_T.__doc__, \"The class docstring\")\n",
    "test_eq(_T.f.__doc__, \"The docstring for method f.\")\n",
    "test_eq(_T.g.__doc__, \"A different docstring for method g.\")"
   ]
  },
  {
   "cell_type": "markdown",
   "metadata": {},
   "source": [
    "For either the `docs` decorator or the `add_docs` function, you can still define your docstrings in the normal way.  Below we set the docstring for the class as usual, but define the method docstrings through the `_docs` attribute:"
   ]
  },
  {
   "cell_type": "code",
   "execution_count": null,
   "metadata": {},
   "outputs": [],
   "source": [
    "@docs\n",
    "class _T:\n",
    "    \"The class docstring\"\n",
    "    def f(self): pass\n",
    "    _docs = dict(f=\"The docstring for method f.\")\n",
    "\n",
    "    \n",
    "test_eq(_T.__doc__, \"The class docstring\")\n",
    "test_eq(_T.f.__doc__, \"The docstring for method f.\")"
   ]
  },
  {
   "cell_type": "code",
   "execution_count": null,
   "metadata": {},
   "outputs": [],
   "source": [
    "#export\n",
    "def custom_dir(c, add:list):\n",
    "    \"Implement custom `__dir__`, adding `add` to `cls`\"\n",
    "    return dir(type(c)) + list(c.__dict__.keys()) + add"
   ]
  },
  {
   "cell_type": "markdown",
   "metadata": {},
   "source": [
    "`custom_dir` allows you extract the [`__dict__` property of a class](https://stackoverflow.com/questions/19907442/explain-dict-attribute) and appends the list `add` to it."
   ]
  },
  {
   "cell_type": "code",
   "execution_count": null,
   "metadata": {},
   "outputs": [],
   "source": [
    "class _T: \n",
    "    def f(): pass\n",
    "\n",
    "s = custom_dir(_T, add=['foo', 'bar']) # a list of everything in `__dict__` of `_T` with ['foo', 'bar'] appended.\n",
    "assert {'foo', 'bar', 'f'}.issubset(s)"
   ]
  },
  {
   "cell_type": "code",
   "execution_count": null,
   "metadata": {},
   "outputs": [
    {
     "data": {
      "text/markdown": [
       "<h4 id=\"is_iter\" class=\"doc_header\"><code>is_iter</code><a href=\"https://github.com/fastai/fastcore/tree/master/fastcore/imports.py#L20\" class=\"source_link\" style=\"float:right\">[source]</a></h4>\n",
       "\n",
       "> <code>is_iter</code>(**`o`**)\n",
       "\n",
       "Test whether `o` can be used in a `for` loop"
      ],
      "text/plain": [
       "<IPython.core.display.Markdown object>"
      ]
     },
     "metadata": {},
     "output_type": "display_data"
    }
   ],
   "source": [
    "show_doc(is_iter)"
   ]
  },
  {
   "cell_type": "code",
   "execution_count": null,
   "metadata": {},
   "outputs": [],
   "source": [
    "assert is_iter([1])\n",
    "assert not is_iter(array(1))\n",
    "assert is_iter(array([1,2]))\n",
    "assert (o for o in range(3))"
   ]
  },
  {
   "cell_type": "code",
   "execution_count": null,
   "metadata": {},
   "outputs": [],
   "source": [
    "#export\n",
    "class _Arg:\n",
    "    def __init__(self,i): self.i = i\n",
    "arg0 = _Arg(0)\n",
    "arg1 = _Arg(1)\n",
    "arg2 = _Arg(2)\n",
    "arg3 = _Arg(3)\n",
    "arg4 = _Arg(4)"
   ]
  },
  {
   "cell_type": "code",
   "execution_count": null,
   "metadata": {},
   "outputs": [],
   "source": [
    "# export\n",
    "def coll_repr(c, max_n=10):\n",
    "    \"String repr of up to `max_n` items of (possibly lazy) collection `c`\"\n",
    "    return f'(#{len(c)}) [' + ','.join(itertools.islice(map(repr,c), max_n)) + (\n",
    "        '...' if len(c)>10 else '') + ']'"
   ]
  },
  {
   "cell_type": "markdown",
   "metadata": {},
   "source": [
    "`coll_repr` is used to provide a more informative [`__repr__`](https://stackoverflow.com/questions/1984162/purpose-of-pythons-repr) about list-like objects.  `coll_repr` and is used by `L` to build a `__repr__` that displays the length of a list in addition to a preview of a list.\n",
    "\n",
    "Below is an example of the `__repr__` string created for a list of 1000 elements:"
   ]
  },
  {
   "cell_type": "code",
   "execution_count": null,
   "metadata": {},
   "outputs": [],
   "source": [
    "test_eq(coll_repr(range(1000)), '(#1000) [0,1,2,3,4,5,6,7,8,9...]')"
   ]
  },
  {
   "cell_type": "markdown",
   "metadata": {},
   "source": [
    "We can set the option `max_n` to optionally preview a specified number of items instead of the default:"
   ]
  },
  {
   "cell_type": "code",
   "execution_count": null,
   "metadata": {},
   "outputs": [],
   "source": [
    "test_eq(coll_repr(range(1000), max_n=5), '(#1000) [0,1,2,3,4...]')"
   ]
  },
  {
   "cell_type": "code",
   "execution_count": null,
   "metadata": {},
   "outputs": [],
   "source": [
    "# export\n",
    "def is_bool(x):\n",
    "    \"Check whether `x` is a bool or None\"\n",
    "    return isinstance(x,(bool,NoneType)) or isinstance_str(x, 'bool_')"
   ]
  },
  {
   "cell_type": "code",
   "execution_count": null,
   "metadata": {},
   "outputs": [],
   "source": [
    "# export\n",
    "def mask2idxs(mask):\n",
    "    \"Convert bool mask or index list to index `L`\"\n",
    "    if isinstance(mask,slice): return mask\n",
    "    mask = list(mask)\n",
    "    if len(mask)==0: return []\n",
    "    it = mask[0]\n",
    "    if hasattr(it,'item'): it = it.item()\n",
    "    if is_bool(it): return [i for i,m in enumerate(mask) if m]\n",
    "    return [int(i) for i in mask]"
   ]
  },
  {
   "cell_type": "code",
   "execution_count": null,
   "metadata": {},
   "outputs": [],
   "source": [
    "test_eq(mask2idxs([False,True,False,True]), [1,3])\n",
    "test_eq(mask2idxs(array([False,True,False,True])), [1,3])\n",
    "test_eq(mask2idxs(array([1,2,3])), [1,2,3])"
   ]
  },
  {
   "cell_type": "code",
   "execution_count": null,
   "metadata": {},
   "outputs": [],
   "source": [
    "#export\n",
    "def _is_array(x): return hasattr(x,'__array__') or hasattr(x,'iloc')\n",
    "\n",
    "def _listify(o):\n",
    "    if o is None: return []\n",
    "    if isinstance(o, list): return o\n",
    "    if isinstance(o, str) or _is_array(o): return [o]\n",
    "    if is_iter(o): return list(o)\n",
    "    return [o]"
   ]
  },
  {
   "cell_type": "code",
   "execution_count": null,
   "metadata": {},
   "outputs": [],
   "source": [
    "#export\n",
    "def cycle(o):\n",
    "    \"Like `itertools.cycle` except creates list of `None`s if `o` is empty\"\n",
    "    o = _listify(o)\n",
    "    return itertools.cycle(o) if o is not None and len(o) > 0 else itertools.cycle([None])"
   ]
  },
  {
   "cell_type": "code",
   "execution_count": null,
   "metadata": {},
   "outputs": [],
   "source": [
    "test_eq(itertools.islice(cycle([1,2,3]),5), [1,2,3,1,2])\n",
    "test_eq(itertools.islice(cycle([]),3), [None]*3)\n",
    "test_eq(itertools.islice(cycle(None),3), [None]*3)\n",
    "test_eq(itertools.islice(cycle(1),3), [1,1,1])"
   ]
  },
  {
   "cell_type": "code",
   "execution_count": null,
   "metadata": {},
   "outputs": [],
   "source": [
    "#export\n",
    "def zip_cycle(x, *args):\n",
    "    \"Like `itertools.zip_longest` but `cycle`s through elements of all but first argument\"\n",
    "    return zip(x, *map(cycle,args))"
   ]
  },
  {
   "cell_type": "code",
   "execution_count": null,
   "metadata": {},
   "outputs": [],
   "source": [
    "test_eq(zip_cycle([1,2,3,4],list('abc')), [(1, 'a'), (2, 'b'), (3, 'c'), (4, 'a')])"
   ]
  },
  {
   "cell_type": "code",
   "execution_count": null,
   "metadata": {},
   "outputs": [],
   "source": [
    "#export\n",
    "def is_indexer(idx):\n",
    "    \"Test whether `idx` will index a single item in a list\"\n",
    "    return isinstance(idx,int) or not getattr(idx,'ndim',1)"
   ]
  },
  {
   "cell_type": "markdown",
   "metadata": {},
   "source": [
    "You can, for example index a single item in a list with an integer or a 0-dimensional numpy array:"
   ]
  },
  {
   "cell_type": "code",
   "execution_count": null,
   "metadata": {},
   "outputs": [],
   "source": [
    "assert is_indexer(1)\n",
    "assert is_indexer(np.array(1))"
   ]
  },
  {
   "cell_type": "markdown",
   "metadata": {},
   "source": [
    "However, you cannot index into single item in a list with another list or a numpy array with ndim > 0. "
   ]
  },
  {
   "cell_type": "code",
   "execution_count": null,
   "metadata": {},
   "outputs": [],
   "source": [
    "assert not is_indexer([1, 2])\n",
    "assert not is_indexer(np.array([[1, 2], [3, 4]]))"
   ]
  },
  {
   "cell_type": "code",
   "execution_count": null,
   "metadata": {},
   "outputs": [],
   "source": [
    "#export\n",
    "def negate_func(f):\n",
    "    \"Create new function that negates result of `f`\"\n",
    "    def _f(*args, **kwargs): return not f(*args, **kwargs)\n",
    "    return _f"
   ]
  },
  {
   "cell_type": "code",
   "execution_count": null,
   "metadata": {},
   "outputs": [],
   "source": [
    "def f(a): return a>0\n",
    "test_eq(f(1),True)\n",
    "test_eq(negate_func(f)(1),False)\n",
    "test_eq(negate_func(f)(a=-1),True)"
   ]
  },
  {
   "cell_type": "markdown",
   "metadata": {},
   "source": [
    "## Attribute Delegation"
   ]
  },
  {
   "cell_type": "code",
   "execution_count": null,
   "metadata": {},
   "outputs": [],
   "source": [
    "#export\n",
    "class GetAttr:\n",
    "    \"Inherit from this to have all attr accesses in `self._xtra` passed down to `self.default`\"\n",
    "    _default='default'\n",
    "    def _component_attr_filter(self,k):\n",
    "        if k.startswith('__') or k in ('_xtra',self._default): return False\n",
    "        xtra = getattr(self,'_xtra',None)\n",
    "        return xtra is None or k in xtra\n",
    "    def _dir(self): return [k for k in dir(getattr(self,self._default)) if self._component_attr_filter(k)]\n",
    "    def __getattr__(self,k):\n",
    "        if self._component_attr_filter(k):\n",
    "            attr = getattr(self,self._default,None)\n",
    "            if attr is not None: return getattr(attr,k)\n",
    "        raise AttributeError(k)\n",
    "    def __dir__(self): return custom_dir(self,self._dir())\n",
    "#     def __getstate__(self): return self.__dict__\n",
    "    def __setstate__(self,data): self.__dict__.update(data)"
   ]
  },
  {
   "cell_type": "code",
   "execution_count": null,
   "metadata": {},
   "outputs": [
    {
     "data": {
      "text/markdown": [
       "<h4 id=\"GetAttr\" class=\"doc_header\"><code>class</code> <code>GetAttr</code><a href=\"\" class=\"source_link\" style=\"float:right\">[source]</a></h4>\n",
       "\n",
       "> <code>GetAttr</code>()\n",
       "\n",
       "Inherit from this to have all attr accesses in `self._xtra` passed down to `self.default`"
      ],
      "text/plain": [
       "<IPython.core.display.Markdown object>"
      ]
     },
     "metadata": {},
     "output_type": "display_data"
    }
   ],
   "source": [
    "show_doc(GetAttr, title_level=4)"
   ]
  },
  {
   "cell_type": "markdown",
   "metadata": {},
   "source": [
    "Inherit from `GetAttr` to have attr access passed down to an instance attribute. \n",
    "This makes it easy to create composites that don't require callers to know about their components.  For a more detailed discussion of how this works as well as relevant context, we suggest reading the [delegated composition section of this blog article](https://www.fast.ai/2019/08/06/delegation/).\n",
    "\n",
    "You can customise the behaviour of `GetAttr` in subclasses via;\n",
    "- `_default`\n",
    "    - By default, this is set to `'default'`, so attr access is passed down to `self.default`\n",
    "    - `_default` can be set to the name of any instance attribute that does not start with dunder `__`\n",
    "- `_xtra`\n",
    "    - By default, this is `None`, so all attr access is passed down\n",
    "    - You can limit which attrs get passed down by setting `_xtra` to a list of attribute names"
   ]
  },
  {
   "cell_type": "markdown",
   "metadata": {},
   "source": [
    "To illuminate the utility of `GetAttr`, suppose we have the following two classes, `_WebPage` which is a superclass of `_ProductPage`, which we wish to compose like so:"
   ]
  },
  {
   "cell_type": "code",
   "execution_count": null,
   "metadata": {},
   "outputs": [],
   "source": [
    "class _WebPage:\n",
    "    def __init__(self, title, author=\"Jeremy\"):\n",
    "        self.title,self.author = title,author\n",
    "\n",
    "class _ProductPage:\n",
    "    def __init__(self, page, price): self.page,self.price = page,price\n",
    "        \n",
    "page = _WebPage('Soap', author=\"Sylvain\")\n",
    "p = _ProductPage(page, 15.0)"
   ]
  },
  {
   "cell_type": "markdown",
   "metadata": {},
   "source": [
    "How do we make it so we can just write `p.author`, instead of `p.page.author` to access the `author` attribute?  We can use `GetAttr`, of course!  First, we subclass `GetAttr` when defining `_ProductPage`.  Next, we set `self.default` to the object whose attributes we want to be able to access directly, which in this case is the `page` argument passed on initialization:"
   ]
  },
  {
   "cell_type": "code",
   "execution_count": null,
   "metadata": {},
   "outputs": [],
   "source": [
    "class _ProductPage(GetAttr):\n",
    "    def __init__(self, page, price): self.default,self.price = page,price #self.default allows you to access page directly.\n",
    "\n",
    "p = _ProductPage(page, 15.0)"
   ]
  },
  {
   "cell_type": "markdown",
   "metadata": {},
   "source": [
    "Now, we can access the `author` attribute directly from the instance:"
   ]
  },
  {
   "cell_type": "code",
   "execution_count": null,
   "metadata": {},
   "outputs": [],
   "source": [
    "test_eq(p.author, 'Sylvain')"
   ]
  },
  {
   "cell_type": "markdown",
   "metadata": {},
   "source": [
    "If you wish to store the object you are composing in an attribute other than `self.default`, you can set the class attribute `_data` as shown below.  This is useful in the case where you might have a name collision with `self.default`:"
   ]
  },
  {
   "cell_type": "code",
   "execution_count": null,
   "metadata": {},
   "outputs": [],
   "source": [
    "class _C(GetAttr):\n",
    "    _default = '_data' # use different component name; `self._data` rather than `self.default`\n",
    "    def __init__(self,a): self._data = a\n",
    "    def foo(self): noop\n",
    "\n",
    "t = _C('Hi')\n",
    "test_eq(t._data, 'Hi') \n",
    "test_fail(lambda: t.default) # we no longer have self.default\n",
    "test_eq(t.lower(), 'hi')\n",
    "test_eq(t.upper(), 'HI')\n",
    "assert 'lower' in dir(t)\n",
    "assert 'upper' in dir(t)"
   ]
  },
  {
   "cell_type": "markdown",
   "metadata": {},
   "source": [
    "By default, all attributes and methods of the object you are composing are retained. In the below example, we compose a `str` object with the class `_C`. This allows us to directly call string methods on instances of class `_C`, such as `str.lower()` or `str.upper()`:"
   ]
  },
  {
   "cell_type": "code",
   "execution_count": null,
   "metadata": {},
   "outputs": [],
   "source": [
    "class _C(GetAttr):\n",
    "    # allow all attributes and methods to get passed to `self.default` (by leaving _xtra=None)\n",
    "    def __init__(self,a): self.default = a\n",
    "    def foo(self): noop\n",
    "\n",
    "t = _C('Hi')\n",
    "test_eq(t.lower(), 'hi')\n",
    "test_eq(t.upper(), 'HI')\n",
    "assert 'lower' in dir(t)\n",
    "assert 'upper' in dir(t)"
   ]
  },
  {
   "cell_type": "markdown",
   "metadata": {},
   "source": [
    "However, you can choose which attributes or methods to retain by defining a class attribute `_xtra`, which is a list of allowed attribute and method names to delegate.  In the below example, we only delegate the `lower` method from the composed `str` object when defining class `_C`:"
   ]
  },
  {
   "cell_type": "code",
   "execution_count": null,
   "metadata": {},
   "outputs": [],
   "source": [
    "class _C(GetAttr):\n",
    "    _xtra = ['lower'] # specify which attributes get passed to `self.default`\n",
    "    def __init__(self,a): self.default = a\n",
    "    def foo(self): noop\n",
    "\n",
    "t = _C('Hi')\n",
    "test_eq(t.default, 'Hi')\n",
    "test_eq(t.lower(), 'hi')\n",
    "test_fail(lambda: t.upper()) # upper wasn't in _xtra, so it isn't available to be called\n",
    "assert 'lower' in dir(t)\n",
    "assert 'upper' not in dir(t)"
   ]
  },
  {
   "cell_type": "markdown",
   "metadata": {},
   "source": [
    "You must be careful to properly set an instance attribute in `__init__` that corresponds to the class attribute `_default`.  The below example sets the class attribute `_default` to `data`, but erroneously fails to define `self.data` (and instead defines `self.default`).\n",
    "\n",
    "Failing to properly set instance attributes leads to errors when you try to access methods directly:"
   ]
  },
  {
   "cell_type": "code",
   "execution_count": null,
   "metadata": {},
   "outputs": [],
   "source": [
    "class _C(GetAttr):\n",
    "    _default = 'data' # use a bad component name; i.e. self.data does not exist\n",
    "    def __init__(self,a): self.default = a\n",
    "    def foo(self): noop\n",
    "        \n",
    "# TODO: should we raise an error when we create a new instance ...\n",
    "t = _C('Hi')\n",
    "test_eq(t.default, 'Hi')\n",
    "# ... or is it enough for all GetAttr features to raise errors\n",
    "test_fail(lambda: t.data)\n",
    "test_fail(lambda: t.lower())\n",
    "test_fail(lambda: t.upper())\n",
    "test_fail(lambda: dir(t))"
   ]
  },
  {
   "cell_type": "code",
   "execution_count": null,
   "metadata": {},
   "outputs": [],
   "source": [
    "#hide\n",
    "# I don't think this test is essential to the docs but it probably makes sense to\n",
    "# check that everything works when we set both _xtra and _default to non-default values\n",
    "class _C(GetAttr):\n",
    "    _xtra = ['lower', 'upper']\n",
    "    _default = 'data'\n",
    "    def __init__(self,a): self.data = a\n",
    "    def foo(self): noop\n",
    "\n",
    "t = _C('Hi')\n",
    "test_eq(t.data, 'Hi')\n",
    "test_eq(t.lower(), 'hi')\n",
    "test_eq(t.upper(), 'HI')\n",
    "assert 'lower' in dir(t)\n",
    "assert 'upper' in dir(t)"
   ]
  },
  {
   "cell_type": "code",
   "execution_count": null,
   "metadata": {},
   "outputs": [],
   "source": [
    "#hide\n",
    "#  when consolidating the filter logic, I choose the previous logic from \n",
    "# __getattr__  k.startswith('__') rather than\n",
    "# _dir         k.startswith('_'). \n",
    "class _C(GetAttr):\n",
    "    def __init__(self): self.default = type('_D', (), {'_under': 1, '__dunder': 2})() \n",
    "    \n",
    "t = _C()\n",
    "test_eq(t.default._under, 1)\n",
    "test_eq(t._under, 1)           # _ prefix attr access is allowed on component\n",
    "assert '_under' in dir(t)\n",
    "\n",
    "test_eq(t.default.__dunder, 2)\n",
    "test_fail(lambda: t.__dunder)  # __ prefix attr access is not allowed on component\n",
    "assert '__dunder' not in dir(t)\n",
    "\n",
    "assert t.__dir__ is not None   # __ prefix attr access is allowed on composite\n",
    "assert '__dir__' in dir(t)"
   ]
  },
  {
   "cell_type": "code",
   "execution_count": null,
   "metadata": {},
   "outputs": [],
   "source": [
    "#hide\n",
    "#Failing test. TODO: make GetAttr pickle-safe\n",
    "\n",
    "# class B:\n",
    "#     def __init__(self): self.a = A()\n",
    "\n",
    "# @funcs_kwargs\n",
    "# class A(GetAttr):\n",
    "#     wif=after_iter= noops\n",
    "#     _methods = 'wif after_iter'.split()\n",
    "#     _default = 'dataset'\n",
    "#     def __init__(self, **kwargs): pass\n",
    "    \n",
    "# a = A()\n",
    "# b = A(wif=a.wif)\n",
    "        \n",
    "# a = A()\n",
    "# b = A(wif=a.wif)\n",
    "# tst = pickle.dumps(b)\n",
    "# c = pickle.loads(tst)"
   ]
  },
  {
   "cell_type": "code",
   "execution_count": null,
   "metadata": {},
   "outputs": [],
   "source": [
    "#export\n",
    "def delegate_attr(self, k, to):\n",
    "    \"Use in `__getattr__` to delegate to attr `to` without inheriting from `GetAttr`\"\n",
    "    if k.startswith('_') or k==to: raise AttributeError(k)\n",
    "    try: return getattr(getattr(self,to), k)\n",
    "    except AttributeError: raise AttributeError(k) from None"
   ]
  },
  {
   "cell_type": "markdown",
   "metadata": {},
   "source": [
    "`delegate_attr` is a functional way to delegate attributes, and is an alternative to `GetAttr`.  We recommend reading the documentation of `GetAttr` for more details around delegation.\n",
    "\n",
    "You can use achieve delegation when you define `__getattr__` by using `delegate_attr`:"
   ]
  },
  {
   "cell_type": "code",
   "execution_count": null,
   "metadata": {},
   "outputs": [],
   "source": [
    "#hide\n",
    "import pandas as pd"
   ]
  },
  {
   "cell_type": "code",
   "execution_count": null,
   "metadata": {},
   "outputs": [],
   "source": [
    "class _C:\n",
    "    def __init__(self, o): self.o = o # self.o corresponds to the `to` argument in delegate_attr.\n",
    "    def __getattr__(self, k): return delegate_attr(self, k, to='o')\n",
    "    \n",
    "\n",
    "t = _C('HELLO') # delegates to a string\n",
    "test_eq(t.lower(), 'hello')\n",
    "\n",
    "t = _C(np.array([5,4,3])) # delegates to a numpy array\n",
    "test_eq(t.sum(), 12)\n",
    "\n",
    "t = _C(pd.DataFrame({'a': [1,2], 'b': [3,4]})) # delegates to a pandas.DataFrame\n",
    "test_eq(t.b.max(), 4)"
   ]
  },
  {
   "cell_type": "markdown",
   "metadata": {},
   "source": [
    "## Foundational Classes"
   ]
  },
  {
   "cell_type": "code",
   "execution_count": null,
   "metadata": {},
   "outputs": [],
   "source": [
    "#export\n",
    "class bind:\n",
    "    \"Same as `partial`, except you can use `arg0` `arg1` etc param placeholders\"\n",
    "    def __init__(self, fn, *pargs, **pkwargs):\n",
    "        self.fn,self.pargs,self.pkwargs = fn,pargs,pkwargs\n",
    "        self.maxi = max((x.i for x in pargs if isinstance(x, _Arg)), default=-1)\n",
    "\n",
    "    def __call__(self, *args, **kwargs):\n",
    "        args = list(args)\n",
    "        kwargs = {**self.pkwargs,**kwargs}\n",
    "        for k,v in kwargs.items():\n",
    "            if isinstance(v,_Arg): kwargs[k] = args.pop(v.i)\n",
    "        fargs = [args[x.i] if isinstance(x, _Arg) else x for x in self.pargs] + args[self.maxi+1:]\n",
    "        return self.fn(*fargs, **kwargs)"
   ]
  },
  {
   "cell_type": "code",
   "execution_count": null,
   "metadata": {},
   "outputs": [
    {
     "data": {
      "text/markdown": [
       "<h3 id=\"bind\" class=\"doc_header\"><code>class</code> <code>bind</code><a href=\"\" class=\"source_link\" style=\"float:right\">[source]</a></h3>\n",
       "\n",
       "> <code>bind</code>(**`fn`**, **\\*`pargs`**, **\\*\\*`pkwargs`**)\n",
       "\n",
       "Same as `partial`, except you can use [`arg0`](/foundation.html#arg0) [`arg1`](/foundation.html#arg1) etc param placeholders"
      ],
      "text/plain": [
       "<IPython.core.display.Markdown object>"
      ]
     },
     "metadata": {},
     "output_type": "display_data"
    }
   ],
   "source": [
    "show_doc(bind, title_level=3)"
   ]
  },
  {
   "cell_type": "markdown",
   "metadata": {},
   "source": [
    "`bind` is the same as `partial`, but also allows you to reorder positional arguments using variable name(s) `arg{i}` where i refers to the zero-indexed positional argument. `bind` as implemented currently only supports reordering of up to the first 5 positional arguments.\n",
    "\n",
    "Consider the function `myfunc` below, which has 3 positional arguments.  These arguments can be referenced as `arg0`, `arg1`, and `arg1`, respectively.  "
   ]
  },
  {
   "cell_type": "code",
   "execution_count": null,
   "metadata": {},
   "outputs": [],
   "source": [
    "def myfn(a,b,c,d=1,e=2): return(a,b,c,d,e)"
   ]
  },
  {
   "cell_type": "markdown",
   "metadata": {},
   "source": [
    "In the below example we bind the positional arguments of `myfn` as follows:\n",
    "\n",
    "- The second input `14`, referenced by `arg1`, is substituted for the first positional argument.\n",
    "- We supply a default value of `17` for the second positional argument.\n",
    "- The first input `19`, referenced by `arg0`, is subsituted for the third positional argument.  "
   ]
  },
  {
   "cell_type": "code",
   "execution_count": null,
   "metadata": {},
   "outputs": [],
   "source": [
    "test_eq(bind(myfn, arg1, 17, arg0, e=3)(19,14), (14,17,19,1,3))"
   ]
  },
  {
   "cell_type": "markdown",
   "metadata": {},
   "source": [
    "In this next example:\n",
    "\n",
    "- We set the default value to `17` for the first positional argument.\n",
    "- The first input `19` refrenced by `arg0`, becomes the second positional argument.\n",
    "- The second input `14` becomes the third positional argument.\n",
    "- We override the default the value for named argument `e` to `3`."
   ]
  },
  {
   "cell_type": "code",
   "execution_count": null,
   "metadata": {},
   "outputs": [],
   "source": [
    "test_eq(bind(myfn, 17, arg0, e=3)(19,14), (17,19,14,1,3))"
   ]
  },
  {
   "cell_type": "markdown",
   "metadata": {},
   "source": [
    "This is an example of using `bind` like `partial` and do not reorder any arguments:"
   ]
  },
  {
   "cell_type": "code",
   "execution_count": null,
   "metadata": {},
   "outputs": [],
   "source": [
    "test_eq(bind(myfn)(17,19,14), (17,19,14,1,2))"
   ]
  },
  {
   "cell_type": "markdown",
   "metadata": {},
   "source": [
    "`bind` can also be used to change default values.  In the below example, we use the first input `3` to override the default value of the named argument `e`, and supply default values for the first three positional arguments:"
   ]
  },
  {
   "cell_type": "code",
   "execution_count": null,
   "metadata": {},
   "outputs": [],
   "source": [
    "test_eq(bind(myfn, 17,19,14,e=arg0)(3), (17,19,14,1,3))"
   ]
  },
  {
   "cell_type": "markdown",
   "metadata": {},
   "source": [
    "## `L` helpers"
   ]
  },
  {
   "cell_type": "code",
   "execution_count": null,
   "metadata": {},
   "outputs": [],
   "source": [
    "#export\n",
    "def argwhere(iterable, f, negate=False, **kwargs):\n",
    "    \"Like `filter_ex`, but return indices for matching items\"\n",
    "    if kwargs: f = partial(f,**kwargs)\n",
    "    if negate: f = negate_func(f)\n",
    "    return [i for i,o in enumerate(iterable) if f(o)]"
   ]
  },
  {
   "cell_type": "code",
   "execution_count": null,
   "metadata": {},
   "outputs": [],
   "source": [
    "#export\n",
    "def map_ex(iterable, f, *args, gen=False, **kwargs):\n",
    "    \"Like `map`, but use `bind`, and supports `str` and indexing\"\n",
    "    g = (bind(f,*args,**kwargs) if callable(f)\n",
    "         else f.format if isinstance(f,str)\n",
    "         else f.__getitem__)\n",
    "    res = map(g, iterable)\n",
    "    if gen: return res\n",
    "    return list(res)"
   ]
  },
  {
   "cell_type": "code",
   "execution_count": null,
   "metadata": {},
   "outputs": [],
   "source": [
    "#export\n",
    "def filter_ex(iterable, f=noop, negate=False, gen=False, **kwargs):\n",
    "    \"Like `filter`, but passing `kwargs` to `f`, defaulting `f` to `noop`, and adding `negate` and `gen`\"\n",
    "    if kwargs: f = partial(f,**kwargs)\n",
    "    if negate: f = negate_func(f)\n",
    "    res = filter(f, iterable)\n",
    "    if gen: return res\n",
    "    return list(res)"
   ]
  },
  {
   "cell_type": "code",
   "execution_count": null,
   "metadata": {},
   "outputs": [],
   "source": [
    "#export\n",
    "def range_of(a, b=None, step=None):\n",
    "    \"All indices of collection `a`, if `a` is a collection, otherwise `range`\"\n",
    "    if is_coll(a): a = len(a)\n",
    "    return list(range(a,b,step) if step is not None else range(a,b) if b is not None else range(a))"
   ]
  },
  {
   "cell_type": "code",
   "execution_count": null,
   "metadata": {},
   "outputs": [],
   "source": [
    "test_eq(range_of([1,1,1,1]), [0,1,2,3])\n",
    "test_eq(range_of(4), [0,1,2,3])"
   ]
  },
  {
   "cell_type": "code",
   "execution_count": null,
   "metadata": {},
   "outputs": [],
   "source": [
    "#export\n",
    "def sorted_ex(iterable, key=None, reverse=False):\n",
    "    \"Like `sorted`, but if key is str use `attrgetter`; if int use `itemgetter`\"\n",
    "    if isinstance(key,str):   k=lambda o:getattr(o,key,0)\n",
    "    elif isinstance(key,int): k=itemgetter(key)\n",
    "    else: k=key\n",
    "    return sorted(iterable, key=k, reverse=reverse)"
   ]
  },
  {
   "cell_type": "markdown",
   "metadata": {},
   "source": [
    "See `L.sorted` for examples."
   ]
  },
  {
   "cell_type": "code",
   "execution_count": null,
   "metadata": {},
   "outputs": [],
   "source": [
    "#export\n",
    "listable_types = typing.Collection,Generator,map,filter,zip"
   ]
  },
  {
   "cell_type": "code",
   "execution_count": null,
   "metadata": {},
   "outputs": [],
   "source": [
    "#export\n",
    "def renumerate(iterable, start=0):\n",
    "    \"Same as `enumerate`, but returns index as 2nd element instead of 1st\"\n",
    "    return ((o,i) for i,o in enumerate(iterable, start=start))"
   ]
  },
  {
   "cell_type": "code",
   "execution_count": null,
   "metadata": {},
   "outputs": [],
   "source": [
    "test_eq(renumerate('abc'), (('a',0),('b',1),('c',2)))"
   ]
  },
  {
   "cell_type": "code",
   "execution_count": null,
   "metadata": {},
   "outputs": [],
   "source": [
    "#export\n",
    "def first(x):\n",
    "    \"First element of `x`, or None if missing\"\n",
    "    try: return next(iter(x))\n",
    "    except StopIteration: return None"
   ]
  },
  {
   "cell_type": "code",
   "execution_count": null,
   "metadata": {},
   "outputs": [],
   "source": [
    "test_eq(first(['a', 'b', 'c', 'd', 'e']), 'a')\n",
    "test_eq(first([]), None)"
   ]
  },
  {
   "cell_type": "code",
   "execution_count": null,
   "metadata": {},
   "outputs": [],
   "source": [
    "#export\n",
    "def nested_attr(o, attr, default=None):\n",
    "    \"Same as `getattr`, but if `attr` includes a `.`, then looks inside nested objects\"\n",
    "    try:\n",
    "        for a in attr.split(\".\"): o = getattr(o, a)\n",
    "    except AttributeError: return default\n",
    "    return o"
   ]
  },
  {
   "cell_type": "code",
   "execution_count": null,
   "metadata": {},
   "outputs": [],
   "source": [
    "a = SimpleNamespace(b=(SimpleNamespace(c=1)))\n",
    "test_eq(nested_attr(a, 'b.c'), getattr(getattr(a, 'b'), 'c'))\n",
    "test_eq(nested_attr(a, 'b.d'), None)"
   ]
  },
  {
   "cell_type": "code",
   "execution_count": null,
   "metadata": {},
   "outputs": [],
   "source": [
    "#export\n",
    "def stop(e=StopIteration):\n",
    "    \"Raises exception `e` (by default `StopException`)\"\n",
    "    raise e\n",
    "\n",
    "def tst():\n",
    "    try: \n",
    "        stop() \n",
    "    except StopIteration: \n",
    "        return True\n",
    "    \n",
    "def tst2():\n",
    "    try: \n",
    "        stop(e=ValueError) \n",
    "    except ValueError: \n",
    "        return True"
   ]
  },
  {
   "cell_type": "code",
   "execution_count": null,
   "metadata": {},
   "outputs": [],
   "source": [
    "assert tst()\n",
    "assert tst2()"
   ]
  },
  {
   "cell_type": "code",
   "execution_count": null,
   "metadata": {},
   "outputs": [],
   "source": [
    "#export\n",
    "class CollBase:\n",
    "    \"Base class for composing a list of `items`\"\n",
    "    def __init__(self, items): self.items = items\n",
    "    def __len__(self): return len(self.items)\n",
    "    def __getitem__(self, k): return self.items[list(k) if isinstance(k,CollBase) else k]\n",
    "    def __setitem__(self, k, v): self.items[list(k) if isinstance(k,CollBase) else k] = v\n",
    "    def __delitem__(self, i): del(self.items[i])\n",
    "    def __repr__(self): return self.items.__repr__()\n",
    "    def __iter__(self): return self.items.__iter__()"
   ]
  },
  {
   "cell_type": "markdown",
   "metadata": {},
   "source": [
    "`ColBase` is a base class that emulates the functionality of a python `list`:"
   ]
  },
  {
   "cell_type": "code",
   "execution_count": null,
   "metadata": {},
   "outputs": [],
   "source": [
    "class _T(CollBase): pass\n",
    "l = _T([1,2,3,4,5])\n",
    "\n",
    "test_eq(len(l), 5) # __len__\n",
    "test_eq(l[-1], 5); test_eq(l[0], 1) #__getitem__\n",
    "l[2] = 100; test_eq(l[2], 100)      # __set_item__\n",
    "del l[0]; test_eq(len(l), 4)        # __delitem__\n",
    "test_eq(str(l), '[2, 100, 4, 5]')   # __repr__"
   ]
  },
  {
   "cell_type": "markdown",
   "metadata": {},
   "source": [
    "## L -"
   ]
  },
  {
   "cell_type": "code",
   "execution_count": null,
   "metadata": {},
   "outputs": [],
   "source": [
    "#export\n",
    "class _L_Meta(type):\n",
    "    def __call__(cls, x=None, *args, **kwargs):\n",
    "        if not args and not kwargs and x is not None and isinstance(x,cls): return x\n",
    "        return super().__call__(x, *args, **kwargs)"
   ]
  },
  {
   "cell_type": "code",
   "execution_count": null,
   "metadata": {},
   "outputs": [],
   "source": [
    "#export\n",
    "class L(GetAttr, CollBase, metaclass=_L_Meta):\n",
    "    \"Behaves like a list of `items` but can also index with list of indices or masks\"\n",
    "    _default='items'\n",
    "    def __init__(self, items=None, *rest, use_list=False, match=None):\n",
    "        if rest: items = (items,)+rest\n",
    "        if items is None: items = []\n",
    "        if (use_list is not None) or not _is_array(items):\n",
    "            items = list(items) if use_list else _listify(items)\n",
    "        if match is not None:\n",
    "            if is_coll(match): match = len(match)\n",
    "            if len(items)==1: items = items*match\n",
    "            else: assert len(items)==match, 'Match length mismatch'\n",
    "        super().__init__(items)\n",
    "\n",
    "    @property\n",
    "    def _xtra(self): return None\n",
    "    def _new(self, items, *args, **kwargs): return type(self)(items, *args, use_list=None, **kwargs)\n",
    "    def __getitem__(self, idx): return self._get(idx) if is_indexer(idx) else L(self._get(idx), use_list=None)\n",
    "    def copy(self): return self._new(self.items.copy())\n",
    "\n",
    "    def _get(self, i):\n",
    "        if is_indexer(i) or isinstance(i,slice): return getattr(self.items,'iloc',self.items)[i]\n",
    "        i = mask2idxs(i)\n",
    "        return (self.items.iloc[list(i)] if hasattr(self.items,'iloc')\n",
    "                else self.items.__array__()[(i,)] if hasattr(self.items,'__array__')\n",
    "                else [self.items[i_] for i_ in i])\n",
    "\n",
    "    def __setitem__(self, idx, o):\n",
    "        \"Set `idx` (can be list of indices, or mask, or int) items to `o` (which is broadcast if not iterable)\"\n",
    "        if isinstance(idx, int): self.items[idx] = o\n",
    "        else:\n",
    "            idx = idx if isinstance(idx,L) else _listify(idx)\n",
    "            if not is_iter(o): o = [o]*len(idx)\n",
    "            for i,o_ in zip(idx,o): self.items[i] = o_\n",
    "\n",
    "    def __eq__(self,b): \n",
    "        if isinstance_str(b, 'ndarray'): return array_equal(b, self)\n",
    "        if isinstance(b, (str,dict)): return False\n",
    "        return all_equal(b,self)\n",
    "\n",
    "    def sorted(self, key=None, reverse=False): return self._new(sorted_ex(self, key=key, reverse=reverse))\n",
    "    def __iter__(self): return iter(self.items.itertuples() if hasattr(self.items,'iloc') else self.items)\n",
    "    def __contains__(self,b): return b in self.items\n",
    "    def __reversed__(self): return self._new(reversed(self.items))\n",
    "    def __invert__(self): return self._new(not i for i in self)\n",
    "    def __repr__(self): return repr(self.items)\n",
    "    def _repr_pretty_(self, p, cycle):\n",
    "        p.text('...' if cycle else repr(self.items) if _is_array(self.items) else coll_repr(self))\n",
    "    def __mul__ (a,b): return a._new(a.items*b)\n",
    "    def __add__ (a,b): return a._new(a.items+_listify(b))\n",
    "    def __radd__(a,b): return a._new(b)+a\n",
    "    def __addi__(a,b):\n",
    "        a.items += list(b)\n",
    "        return a\n",
    "\n",
    "    @classmethod\n",
    "    def split(cls, s, sep=None, maxsplit=-1): return cls(s.split(sep,maxsplit))\n",
    "    @classmethod\n",
    "    def range(cls, a, b=None, step=None): return cls(range_of(a, b=b, step=step))\n",
    "\n",
    "    def map(self, f, *args, gen=False, **kwargs): return self._new(map_ex(self, f, *args, gen=gen, **kwargs))\n",
    "    def argwhere(self, f, negate=False, **kwargs): return self._new(argwhere(self, f, negate, **kwargs))\n",
    "    def filter(self, f=noop, negate=False, gen=False, **kwargs):\n",
    "        return self._new(filter_ex(self, f=f, negate=negate, gen=gen, **kwargs))\n",
    "\n",
    "    def unique(self): return L(dict.fromkeys(self).keys())\n",
    "    def enumerate(self): return L(enumerate(self))\n",
    "    def renumerate(self): return L(renumerate(self))\n",
    "    def val2idx(self): return {v:k for k,v in self.enumerate()}\n",
    "    def itemgot(self, *idxs):\n",
    "        x = self\n",
    "        for idx in idxs: x = x.map(itemgetter(idx))\n",
    "        return x\n",
    "\n",
    "    def attrgot(self, k, default=None):\n",
    "        return self.map(lambda o: o.get(k,default) if isinstance(o, dict) else nested_attr(o,k,default))\n",
    "    def cycle(self): return cycle(self)\n",
    "    def map_dict(self, f=noop, *args, gen=False, **kwargs): return {k:f(k, *args,**kwargs) for k in self}\n",
    "    def map_filter(self, f=noop, g=noop, *args, gen=False, **kwargs):\n",
    "        res = filter(g, self.map(f, *args, gen=gen, **kwargs))\n",
    "        if gen: return res\n",
    "        return self._new(res)\n",
    "    def map_first(self, f=noop, g=noop, *args, **kwargs):\n",
    "        return first(self.map_filter(f, g, *args, gen=False, **kwargs))\n",
    "\n",
    "    def starmap(self, f, *args, **kwargs): return self._new(itertools.starmap(partial(f,*args,**kwargs), self))\n",
    "    def zip(self, cycled=False): return self._new((zip_cycle if cycled else zip)(*self))\n",
    "    def zipwith(self, *rest, cycled=False): return self._new([self, *rest]).zip(cycled=cycled)\n",
    "    def map_zip(self, f, *args, cycled=False, **kwargs): return self.zip(cycled=cycled).starmap(f, *args, **kwargs)\n",
    "    def map_zipwith(self, f, *rest, cycled=False, **kwargs):\n",
    "        return self.zipwith(*rest, cycled=cycled).starmap(f, **kwargs)\n",
    "    def shuffle(self):\n",
    "        it = copy(self.items)\n",
    "        random.shuffle(it)\n",
    "        return self._new(it)\n",
    "\n",
    "    def concat(self): return self._new(itertools.chain.from_iterable(self.map(L)))\n",
    "    def reduce(self, f, initial=None): return reduce(f, self) if initial is None else reduce(f, self, initial)\n",
    "    def sum(self): return self.reduce(operator.add)\n",
    "    def product(self): return self.reduce(operator.mul)\n",
    "    def setattrs(self, attr, val): [setattr(o,attr,val) for o in self]"
   ]
  },
  {
   "cell_type": "code",
   "execution_count": null,
   "metadata": {},
   "outputs": [],
   "source": [
    "#export\n",
    "add_docs(L,\n",
    "         __getitem__=\"Retrieve `idx` (can be list of indices, or mask, or int) items\",\n",
    "         range=\"Class Method: Same as `range`, but returns `L`. Can pass collection for `a`, to use `len(a)`\",\n",
    "         split=\"Class Method: Same as `str.split`, but returns an `L`\",\n",
    "         copy=\"Same as `list.copy`, but returns an `L`\",\n",
    "         sorted=\"New `L` sorted by `key`. If key is str use `attrgetter`; if int use `itemgetter`\",\n",
    "         unique=\"Unique items, in stable order\",\n",
    "         val2idx=\"Dict from value to index\",\n",
    "         filter=\"Create new `L` filtered by predicate `f`, passing `args` and `kwargs` to `f`\",\n",
    "         argwhere=\"Like `filter`, but return indices for matching items\",\n",
    "         map=\"Create new `L` with `f` applied to all `items`, passing `args` and `kwargs` to `f`\",\n",
    "         map_filter=\"Same as `map` with `f` followed by `filter` with `g`\",\n",
    "         map_first=\"First element of `map_filter`\",\n",
    "         map_dict=\"Like `map`, but creates a dict from `items` to function results\",\n",
    "         starmap=\"Like `map`, but use `itertools.starmap`\",\n",
    "         itemgot=\"Create new `L` with item `idx` of all `items`\",\n",
    "         attrgot=\"Create new `L` with attr `k` (or value `k` for dicts) of all `items`.\",\n",
    "         cycle=\"Same as `itertools.cycle`\",\n",
    "         enumerate=\"Same as `enumerate`\",\n",
    "         renumerate=\"Same as `renumerate`\",\n",
    "         zip=\"Create new `L` with `zip(*items)`\",\n",
    "         zipwith=\"Create new `L` with `self` zip with each of `*rest`\",\n",
    "         map_zip=\"Combine `zip` and `starmap`\",\n",
    "         map_zipwith=\"Combine `zipwith` and `starmap`\",\n",
    "         concat=\"Concatenate all elements of list\",\n",
    "         shuffle=\"Same as `random.shuffle`, but not inplace\",\n",
    "         reduce=\"Wrapper for `functools.reduce`\",\n",
    "         sum=\"Sum of the items\",\n",
    "         product=\"Product of the items\",\n",
    "         setattrs=\"Call `setattr` on all items\"\n",
    "        )"
   ]
  },
  {
   "cell_type": "code",
   "execution_count": null,
   "metadata": {},
   "outputs": [
    {
     "data": {
      "text/plain": [
       "b'\\x80\\x04\\x95\\x01\\x01\\x00\\x00\\x00\\x00\\x00\\x00\\x8c\\x07inspect\\x94\\x8c\\tSignature\\x94\\x93\\x94(h\\x00\\x8c\\tParameter\\x94\\x93\\x94\\x8c\\x05items\\x94h\\x00\\x8c\\x0e_ParameterKind\\x94\\x93\\x94K\\x01\\x85\\x94R\\x94\\x86\\x94R\\x94}\\x94(\\x8c\\x08_default\\x94N\\x8c\\x0b_annotation\\x94h\\x00\\x8c\\x06_empty\\x94\\x93\\x94ubh\\x04\\x8c\\x04rest\\x94h\\x07K\\x02\\x85\\x94R\\x94\\x86\\x94R\\x94}\\x94(h\\rh\\x10h\\x0eh\\x10ubh\\x04\\x8c\\x08use_list\\x94h\\x07K\\x03\\x85\\x94R\\x94\\x86\\x94R\\x94}\\x94(h\\r\\x89h\\x0eh\\x10ubh\\x04\\x8c\\x05match\\x94h\\x19\\x86\\x94R\\x94}\\x94(h\\rNh\\x0eh\\x10ubt\\x94\\x85\\x94R\\x94}\\x94\\x8c\\x12_return_annotation\\x94h\\x10sb.'"
      ]
     },
     "execution_count": null,
     "metadata": {},
     "output_type": "execute_result"
    }
   ],
   "source": [
    "#hide\n",
    "\n",
    "# Here we are fixing the signature of L. What happens is that\n",
    "# the __call__ method on the MetaClass of L shadows the __init__\n",
    "# giving the wrong signature [1].\n",
    "\n",
    "# The solution adopted tries to not import the inspect module \n",
    "# inside the lib code (notice that this cell is not exported)\n",
    "# because it's really slow, but instead relies on pickling the\n",
    "# correct signature and loading it.\n",
    "\n",
    "# [1] https://stackoverflow.com/questions/49740290/call-from-metaclass-shadows-signature-of-init\n",
    "\n",
    "def _f(items=None, *rest, use_list=False, match=None): ...\n",
    "pickle.dumps(inspect.signature(_f))"
   ]
  },
  {
   "cell_type": "code",
   "execution_count": null,
   "metadata": {},
   "outputs": [],
   "source": [
    "#export\n",
    "#hide\n",
    "L.__signature__ = pickle.loads(b'\\x80\\x03cinspect\\nSignature\\nq\\x00(cinspect\\nParameter\\nq\\x01X\\x05\\x00\\x00\\x00itemsq\\x02cinspect\\n_ParameterKind\\nq\\x03K\\x01\\x85q\\x04Rq\\x05\\x86q\\x06Rq\\x07}q\\x08(X\\x08\\x00\\x00\\x00_defaultq\\tNX\\x0b\\x00\\x00\\x00_annotationq\\ncinspect\\n_empty\\nq\\x0bubh\\x01X\\x04\\x00\\x00\\x00restq\\x0ch\\x03K\\x02\\x85q\\rRq\\x0e\\x86q\\x0fRq\\x10}q\\x11(h\\th\\x0bh\\nh\\x0bubh\\x01X\\x08\\x00\\x00\\x00use_listq\\x12h\\x03K\\x03\\x85q\\x13Rq\\x14\\x86q\\x15Rq\\x16}q\\x17(h\\t\\x89h\\nh\\x0bubh\\x01X\\x05\\x00\\x00\\x00matchq\\x18h\\x14\\x86q\\x19Rq\\x1a}q\\x1b(h\\tNh\\nh\\x0bubtq\\x1c\\x85q\\x1dRq\\x1e}q\\x1fX\\x12\\x00\\x00\\x00_return_annotationq h\\x0bsb.')"
   ]
  },
  {
   "cell_type": "code",
   "execution_count": null,
   "metadata": {},
   "outputs": [],
   "source": [
    "#export\n",
    "Sequence.register(L);"
   ]
  },
  {
   "cell_type": "markdown",
   "metadata": {},
   "source": [
    "`L` is a drop in replacement for a python `list`.  Inspired by [NumPy](http://www.numpy.org/), `L`,  supports advanced indexing and has additional methods (outlined below) that provide additional functionality and encourage simple expressive code. For example, the code below takes a list of pairs, selects the second item of each pair, takes its absolute value, filters items greater than 4, and adds them up:"
   ]
  },
  {
   "cell_type": "code",
   "execution_count": null,
   "metadata": {},
   "outputs": [],
   "source": [
    "#hide\n",
    "from fastcore.utils import gt"
   ]
  },
  {
   "cell_type": "code",
   "execution_count": null,
   "metadata": {},
   "outputs": [],
   "source": [
    "d = dict(a=1,b=-5,d=6,e=9).items()\n",
    "test_eq(L(d).itemgot(1).map(abs).filter(gt(4)).sum(), 20) # abs(-5) + abs(6) + abs(9) = 20; 1 was filtered out."
   ]
  },
  {
   "cell_type": "markdown",
   "metadata": {},
   "source": [
    "Read [this overview section](https://fastcore.fast.ai/#L) for a quick tutorial of `L`, as well as background on the name.  \n",
    "\n",
    "You can create an `L` from an existing iterable (e.g. a list, range, etc) and access or modify it with an int list/tuple index, mask, int, or slice. All `list` methods can also be used with `L`."
   ]
  },
  {
   "cell_type": "code",
   "execution_count": null,
   "metadata": {},
   "outputs": [
    {
     "data": {
      "text/plain": [
       "(#12) [11,10,9,'j',7,'k',5,4,3,2...]"
      ]
     },
     "execution_count": null,
     "metadata": {},
     "output_type": "execute_result"
    }
   ],
   "source": [
    "t = L(range(12))\n",
    "test_eq(t, list(range(12)))\n",
    "test_ne(t, list(range(11)))\n",
    "t.reverse()\n",
    "test_eq(t[0], 11)\n",
    "t[3] = \"h\"\n",
    "test_eq(t[3], \"h\")\n",
    "t[3,5] = (\"j\",\"k\")\n",
    "test_eq(t[3,5], [\"j\",\"k\"])\n",
    "test_eq(t, L(t))\n",
    "test_eq(L(L(1,2),[3,4]), ([1,2],[3,4]))\n",
    "t"
   ]
  },
  {
   "cell_type": "markdown",
   "metadata": {},
   "source": [
    "Any `L` is a `Sequence` so you can use it with methods like `random.sample`:"
   ]
  },
  {
   "cell_type": "code",
   "execution_count": null,
   "metadata": {},
   "outputs": [],
   "source": [
    "assert isinstance(t, Sequence)"
   ]
  },
  {
   "cell_type": "code",
   "execution_count": null,
   "metadata": {},
   "outputs": [],
   "source": [
    "import random"
   ]
  },
  {
   "cell_type": "code",
   "execution_count": null,
   "metadata": {},
   "outputs": [
    {
     "data": {
      "text/plain": [
       "[10, 'j', 4]"
      ]
     },
     "execution_count": null,
     "metadata": {},
     "output_type": "execute_result"
    }
   ],
   "source": [
    "random.sample(t, 3)"
   ]
  },
  {
   "cell_type": "code",
   "execution_count": null,
   "metadata": {},
   "outputs": [],
   "source": [
    "#hide\n",
    "# test set items with L of collections\n",
    "x = L([[1,2,3], [4,5], [6,7]])\n",
    "x[0] = [1,2]\n",
    "test_eq(x, L([[1,2], [4,5], [6,7]]))"
   ]
  },
  {
   "cell_type": "markdown",
   "metadata": {},
   "source": [
    "There are optimized indexers for arrays, tensors, and DataFrames."
   ]
  },
  {
   "cell_type": "code",
   "execution_count": null,
   "metadata": {},
   "outputs": [],
   "source": [
    "arr = np.arange(9).reshape(3,3)\n",
    "t = L(arr, use_list=None)\n",
    "test_eq(t[1,2], arr[[1,2]])\n",
    "\n",
    "df = pd.DataFrame({'a':[1,2,3]})\n",
    "t = L(df, use_list=None)\n",
    "test_eq(t[1,2], L(pd.DataFrame({'a':[2,3]}, index=[1,2]), use_list=None))"
   ]
  },
  {
   "cell_type": "markdown",
   "metadata": {},
   "source": [
    "You can also modify an `L` with `append`, `+`, and `*`."
   ]
  },
  {
   "cell_type": "code",
   "execution_count": null,
   "metadata": {},
   "outputs": [],
   "source": [
    "t = L()\n",
    "test_eq(t, [])\n",
    "t.append(1)\n",
    "test_eq(t, [1])\n",
    "t += [3,2]\n",
    "test_eq(t, [1,3,2])\n",
    "t = t + [4]\n",
    "test_eq(t, [1,3,2,4])\n",
    "t = 5 + t\n",
    "test_eq(t, [5,1,3,2,4])\n",
    "test_eq(L(1,2,3), [1,2,3])\n",
    "test_eq(L(1,2,3), L(1,2,3))\n",
    "t = L(1)*5\n",
    "t = t.map(operator.neg)\n",
    "test_eq(t,[-1]*5)\n",
    "test_eq(~L([True,False,False]), L([False,True,True]))\n",
    "t = L(range(4))\n",
    "test_eq(zip(t, L(1).cycle()), zip(range(4),(1,1,1,1)))\n",
    "t = L.range(100)\n",
    "test_shuffled(t,t.shuffle())"
   ]
  },
  {
   "cell_type": "code",
   "execution_count": null,
   "metadata": {},
   "outputs": [],
   "source": [
    "def _f(x,a=0): return x+a\n",
    "t = L(1)*5\n",
    "test_eq(t.map(_f), t)\n",
    "test_eq(t.map(_f,1), [2]*5)\n",
    "test_eq(t.map(_f,a=2), [3]*5)"
   ]
  },
  {
   "cell_type": "markdown",
   "metadata": {},
   "source": [
    "An `L` can be constructed from anything iterable, although tensors and arrays will not be iterated over on construction, unless you pass `use_list` to the constructor."
   ]
  },
  {
   "cell_type": "code",
   "execution_count": null,
   "metadata": {},
   "outputs": [],
   "source": [
    "test_eq(L([1,2,3]),[1,2,3])\n",
    "test_eq(L(L([1,2,3])),[1,2,3])\n",
    "test_ne(L([1,2,3]),[1,2,])\n",
    "test_eq(L('abc'),['abc'])\n",
    "test_eq(L(range(0,3)),[0,1,2])\n",
    "test_eq(L(o for o in range(0,3)),[0,1,2])\n",
    "test_eq(L(array(0)),[array(0)])\n",
    "test_eq(L([array(0),array(1)]),[array(0),array(1)])\n",
    "test_eq(L(array([0.,1.1]))[0],array([0.,1.1]))\n",
    "test_eq(L(array([0.,1.1]), use_list=True), [array(0.),array(1.1)])  # `use_list=True` to unwrap arrays/arrays"
   ]
  },
  {
   "cell_type": "markdown",
   "metadata": {},
   "source": [
    "If `match` is not `None` then the created list is same len as `match`, either by:\n",
    "\n",
    "- If `len(items)==1` then `items` is replicated,\n",
    "- Otherwise an error is raised if `match` and `items` are not already the same size."
   ]
  },
  {
   "cell_type": "code",
   "execution_count": null,
   "metadata": {},
   "outputs": [],
   "source": [
    "test_eq(L(1,match=[1,2,3]),[1,1,1])\n",
    "test_eq(L([1,2],match=[2,3]),[1,2])\n",
    "test_fail(lambda: L([1,2],match=[1,2,3]))"
   ]
  },
  {
   "cell_type": "markdown",
   "metadata": {},
   "source": [
    "If you create an `L` from an existing `L` then you'll get back the original object (since `L` uses the `NewChkMeta` metaclass)."
   ]
  },
  {
   "cell_type": "code",
   "execution_count": null,
   "metadata": {},
   "outputs": [],
   "source": [
    "test_is(L(t), t)"
   ]
  },
  {
   "cell_type": "markdown",
   "metadata": {},
   "source": [
    "An `L` is considred equal to a list if they have the same elements. It's never considered equal to a `str` a `set` or a `dict` even if they have the same elements/keys."
   ]
  },
  {
   "cell_type": "code",
   "execution_count": null,
   "metadata": {},
   "outputs": [],
   "source": [
    "test_eq(L(['a', 'b']), ['a', 'b'])\n",
    "test_ne(L(['a', 'b']), 'ab')\n",
    "test_ne(L(['a', 'b']), {'a':1, 'b':2})"
   ]
  },
  {
   "cell_type": "markdown",
   "metadata": {},
   "source": [
    "### `L` Methods"
   ]
  },
  {
   "cell_type": "code",
   "execution_count": null,
   "metadata": {},
   "outputs": [
    {
     "data": {
      "text/markdown": [
       "<h4 id=\"L.__getitem__\" class=\"doc_header\"><code>L.__getitem__</code><a href=\"__main__.py#L19\" class=\"source_link\" style=\"float:right\">[source]</a></h4>\n",
       "\n",
       "> <code>L.__getitem__</code>(**`idx`**)\n",
       "\n",
       "Retrieve `idx` (can be list of indices, or mask, or int) items"
      ],
      "text/plain": [
       "<IPython.core.display.Markdown object>"
      ]
     },
     "metadata": {},
     "output_type": "display_data"
    }
   ],
   "source": [
    "show_doc(L.__getitem__)"
   ]
  },
  {
   "cell_type": "code",
   "execution_count": null,
   "metadata": {},
   "outputs": [],
   "source": [
    "t = L(range(12))\n",
    "test_eq(t[1,2], [1,2])                # implicit tuple\n",
    "test_eq(t[[1,2]], [1,2])              # list\n",
    "test_eq(t[:3], [0,1,2])               # slice\n",
    "test_eq(t[[False]*11 + [True]], [11]) # mask\n",
    "test_eq(t[array(3)], 3)"
   ]
  },
  {
   "cell_type": "code",
   "execution_count": null,
   "metadata": {},
   "outputs": [
    {
     "data": {
      "text/markdown": [
       "<h4 id=\"L.__setitem__\" class=\"doc_header\"><code>L.__setitem__</code><a href=\"__main__.py#L29\" class=\"source_link\" style=\"float:right\">[source]</a></h4>\n",
       "\n",
       "> <code>L.__setitem__</code>(**`idx`**, **`o`**)\n",
       "\n",
       "Set `idx` (can be list of indices, or mask, or int) items to `o` (which is broadcast if not iterable)"
      ],
      "text/plain": [
       "<IPython.core.display.Markdown object>"
      ]
     },
     "metadata": {},
     "output_type": "display_data"
    }
   ],
   "source": [
    "show_doc(L.__setitem__)"
   ]
  },
  {
   "cell_type": "code",
   "execution_count": null,
   "metadata": {},
   "outputs": [],
   "source": [
    "t[4,6] = 0\n",
    "test_eq(t[4,6], [0,0])\n",
    "t[4,6] = [1,2]\n",
    "test_eq(t[4,6], [1,2])"
   ]
  },
  {
   "cell_type": "code",
   "execution_count": null,
   "metadata": {},
   "outputs": [
    {
     "data": {
      "text/markdown": [
       "<h4 id=\"L.unique\" class=\"doc_header\"><code>L.unique</code><a href=\"__main__.py#L67\" class=\"source_link\" style=\"float:right\">[source]</a></h4>\n",
       "\n",
       "> <code>L.unique</code>()\n",
       "\n",
       "Unique items, in stable order"
      ],
      "text/plain": [
       "<IPython.core.display.Markdown object>"
      ]
     },
     "metadata": {},
     "output_type": "display_data"
    }
   ],
   "source": [
    "show_doc(L.unique)"
   ]
  },
  {
   "cell_type": "code",
   "execution_count": null,
   "metadata": {},
   "outputs": [],
   "source": [
    "test_eq(L(1,2,3,4,4).unique(), [1,2,3,4])"
   ]
  },
  {
   "cell_type": "code",
   "execution_count": null,
   "metadata": {},
   "outputs": [
    {
     "data": {
      "text/markdown": [
       "<h4 id=\"L.val2idx\" class=\"doc_header\"><code>L.val2idx</code><a href=\"__main__.py#L70\" class=\"source_link\" style=\"float:right\">[source]</a></h4>\n",
       "\n",
       "> <code>L.val2idx</code>()\n",
       "\n",
       "Dict from value to index"
      ],
      "text/plain": [
       "<IPython.core.display.Markdown object>"
      ]
     },
     "metadata": {},
     "output_type": "display_data"
    }
   ],
   "source": [
    "show_doc(L.val2idx)"
   ]
  },
  {
   "cell_type": "code",
   "execution_count": null,
   "metadata": {},
   "outputs": [],
   "source": [
    "test_eq(L(1,2,3).val2idx(), {3:2,1:0,2:1})"
   ]
  },
  {
   "cell_type": "code",
   "execution_count": null,
   "metadata": {},
   "outputs": [
    {
     "data": {
      "text/markdown": [
       "<h4 id=\"L.filter\" class=\"doc_header\"><code>L.filter</code><a href=\"__main__.py#L64\" class=\"source_link\" style=\"float:right\">[source]</a></h4>\n",
       "\n",
       "> <code>L.filter</code>(**`f`**=*`noop`*, **`negate`**=*`False`*, **`gen`**=*`False`*, **\\*\\*`kwargs`**)\n",
       "\n",
       "Create new [`L`](/foundation.html#L) filtered by predicate `f`, passing `args` and `kwargs` to `f`"
      ],
      "text/plain": [
       "<IPython.core.display.Markdown object>"
      ]
     },
     "metadata": {},
     "output_type": "display_data"
    }
   ],
   "source": [
    "show_doc(L.filter)"
   ]
  },
  {
   "cell_type": "code",
   "execution_count": null,
   "metadata": {},
   "outputs": [
    {
     "data": {
      "text/plain": [
       "[0, 1, 2, 3, 1, 5, 2, 7, 8, 9, 10, 11]"
      ]
     },
     "execution_count": null,
     "metadata": {},
     "output_type": "execute_result"
    }
   ],
   "source": [
    "list(t)"
   ]
  },
  {
   "cell_type": "code",
   "execution_count": null,
   "metadata": {},
   "outputs": [],
   "source": [
    "test_eq(t.filter(lambda o:o<5), [0,1,2,3,1,2])\n",
    "test_eq(t.filter(lambda o:o<5, negate=True), [5,7,8,9,10,11])"
   ]
  },
  {
   "cell_type": "code",
   "execution_count": null,
   "metadata": {},
   "outputs": [
    {
     "data": {
      "text/markdown": [
       "<h4 id=\"L.argwhere\" class=\"doc_header\"><code>L.argwhere</code><a href=\"__main__.py#L63\" class=\"source_link\" style=\"float:right\">[source]</a></h4>\n",
       "\n",
       "> <code>L.argwhere</code>(**`f`**, **`negate`**=*`False`*, **\\*\\*`kwargs`**)\n",
       "\n",
       "Like `filter`, but return indices for matching items"
      ],
      "text/plain": [
       "<IPython.core.display.Markdown object>"
      ]
     },
     "metadata": {},
     "output_type": "display_data"
    }
   ],
   "source": [
    "show_doc(L.argwhere)"
   ]
  },
  {
   "cell_type": "code",
   "execution_count": null,
   "metadata": {},
   "outputs": [],
   "source": [
    "test_eq(t.argwhere(lambda o:o<5), [0,1,2,3,4,6])"
   ]
  },
  {
   "cell_type": "code",
   "execution_count": null,
   "metadata": {},
   "outputs": [
    {
     "data": {
      "text/markdown": [
       "<h4 id=\"L.map\" class=\"doc_header\"><code>L.map</code><a href=\"__main__.py#L62\" class=\"source_link\" style=\"float:right\">[source]</a></h4>\n",
       "\n",
       "> <code>L.map</code>(**`f`**, **\\*`args`**, **`gen`**=*`False`*, **\\*\\*`kwargs`**)\n",
       "\n",
       "Create new [`L`](/foundation.html#L) with `f` applied to all `items`, passing `args` and `kwargs` to `f`"
      ],
      "text/plain": [
       "<IPython.core.display.Markdown object>"
      ]
     },
     "metadata": {},
     "output_type": "display_data"
    }
   ],
   "source": [
    "show_doc(L.map)"
   ]
  },
  {
   "cell_type": "code",
   "execution_count": null,
   "metadata": {},
   "outputs": [],
   "source": [
    "test_eq(L.range(4).map(operator.neg), [0,-1,-2,-3])"
   ]
  },
  {
   "cell_type": "markdown",
   "metadata": {},
   "source": [
    "If `f` is a string then it is treated as a format string to create the mapping:"
   ]
  },
  {
   "cell_type": "code",
   "execution_count": null,
   "metadata": {},
   "outputs": [],
   "source": [
    "test_eq(L.range(4).map('#{}#'), ['#0#','#1#','#2#','#3#'])"
   ]
  },
  {
   "cell_type": "markdown",
   "metadata": {},
   "source": [
    "If `f` is a dictionary (or anything supporting `__getitem__`) then it is indexed to create the mapping:"
   ]
  },
  {
   "cell_type": "code",
   "execution_count": null,
   "metadata": {},
   "outputs": [],
   "source": [
    "test_eq(L.range(4).map(list('abcd')), list('abcd'))"
   ]
  },
  {
   "cell_type": "markdown",
   "metadata": {},
   "source": [
    "You can also pass the same `arg` params that `bind` accepts:"
   ]
  },
  {
   "cell_type": "code",
   "execution_count": null,
   "metadata": {},
   "outputs": [],
   "source": [
    "def f(a=None,b=None): return b\n",
    "test_eq(L.range(4).map(f, b=arg0), range(4))"
   ]
  },
  {
   "cell_type": "code",
   "execution_count": null,
   "metadata": {},
   "outputs": [
    {
     "data": {
      "text/markdown": [
       "<h4 id=\"L.map_dict\" class=\"doc_header\"><code>L.map_dict</code><a href=\"__main__.py#L79\" class=\"source_link\" style=\"float:right\">[source]</a></h4>\n",
       "\n",
       "> <code>L.map_dict</code>(**`f`**=*`noop`*, **\\*`args`**, **`gen`**=*`False`*, **\\*\\*`kwargs`**)\n",
       "\n",
       "Like `map`, but creates a dict from `items` to function results"
      ],
      "text/plain": [
       "<IPython.core.display.Markdown object>"
      ]
     },
     "metadata": {},
     "output_type": "display_data"
    }
   ],
   "source": [
    "show_doc(L.map_dict)"
   ]
  },
  {
   "cell_type": "code",
   "execution_count": null,
   "metadata": {},
   "outputs": [],
   "source": [
    "test_eq(L(range(1,5)).map_dict(), {1:1, 2:2, 3:3, 4:4})\n",
    "test_eq(L(range(1,5)).map_dict(operator.neg), {1:-1, 2:-2, 3:-3, 4:-4})"
   ]
  },
  {
   "cell_type": "code",
   "execution_count": null,
   "metadata": {},
   "outputs": [
    {
     "data": {
      "text/markdown": [
       "<h4 id=\"L.zip\" class=\"doc_header\"><code>L.zip</code><a href=\"__main__.py#L88\" class=\"source_link\" style=\"float:right\">[source]</a></h4>\n",
       "\n",
       "> <code>L.zip</code>(**`cycled`**=*`False`*)\n",
       "\n",
       "Create new [`L`](/foundation.html#L) with `zip(*items)`"
      ],
      "text/plain": [
       "<IPython.core.display.Markdown object>"
      ]
     },
     "metadata": {},
     "output_type": "display_data"
    }
   ],
   "source": [
    "show_doc(L.zip)"
   ]
  },
  {
   "cell_type": "code",
   "execution_count": null,
   "metadata": {},
   "outputs": [],
   "source": [
    "t = L([[1,2,3],'abc'])\n",
    "test_eq(t.zip(), [(1, 'a'),(2, 'b'),(3, 'c')])"
   ]
  },
  {
   "cell_type": "code",
   "execution_count": null,
   "metadata": {},
   "outputs": [],
   "source": [
    "t = L([[1,2,3,4],['a','b','c']])\n",
    "test_eq(t.zip(cycled=True ), [(1, 'a'),(2, 'b'),(3, 'c'),(4, 'a')])\n",
    "test_eq(t.zip(cycled=False), [(1, 'a'),(2, 'b'),(3, 'c')])"
   ]
  },
  {
   "cell_type": "code",
   "execution_count": null,
   "metadata": {},
   "outputs": [
    {
     "data": {
      "text/markdown": [
       "<h4 id=\"L.map_zip\" class=\"doc_header\"><code>L.map_zip</code><a href=\"__main__.py#L90\" class=\"source_link\" style=\"float:right\">[source]</a></h4>\n",
       "\n",
       "> <code>L.map_zip</code>(**`f`**, **\\*`args`**, **`cycled`**=*`False`*, **\\*\\*`kwargs`**)\n",
       "\n",
       "Combine `zip` and `starmap`"
      ],
      "text/plain": [
       "<IPython.core.display.Markdown object>"
      ]
     },
     "metadata": {},
     "output_type": "display_data"
    }
   ],
   "source": [
    "show_doc(L.map_zip)"
   ]
  },
  {
   "cell_type": "code",
   "execution_count": null,
   "metadata": {},
   "outputs": [],
   "source": [
    "t = L([1,2,3],[2,3,4])\n",
    "test_eq(t.map_zip(operator.mul), [2,6,12])"
   ]
  },
  {
   "cell_type": "code",
   "execution_count": null,
   "metadata": {},
   "outputs": [
    {
     "data": {
      "text/markdown": [
       "<h4 id=\"L.zipwith\" class=\"doc_header\"><code>L.zipwith</code><a href=\"__main__.py#L89\" class=\"source_link\" style=\"float:right\">[source]</a></h4>\n",
       "\n",
       "> <code>L.zipwith</code>(**\\*`rest`**, **`cycled`**=*`False`*)\n",
       "\n",
       "Create new [`L`](/foundation.html#L) with `self` zip with each of `*rest`"
      ],
      "text/plain": [
       "<IPython.core.display.Markdown object>"
      ]
     },
     "metadata": {},
     "output_type": "display_data"
    }
   ],
   "source": [
    "show_doc(L.zipwith)"
   ]
  },
  {
   "cell_type": "code",
   "execution_count": null,
   "metadata": {},
   "outputs": [],
   "source": [
    "b = [[0],[1],[2,2]]\n",
    "t = L([1,2,3]).zipwith(b)\n",
    "test_eq(t, [(1,[0]), (2,[1]), (3,[2,2])])"
   ]
  },
  {
   "cell_type": "code",
   "execution_count": null,
   "metadata": {},
   "outputs": [
    {
     "data": {
      "text/markdown": [
       "<h4 id=\"L.map_zipwith\" class=\"doc_header\"><code>L.map_zipwith</code><a href=\"__main__.py#L91\" class=\"source_link\" style=\"float:right\">[source]</a></h4>\n",
       "\n",
       "> <code>L.map_zipwith</code>(**`f`**, **\\*`rest`**, **`cycled`**=*`False`*, **\\*\\*`kwargs`**)\n",
       "\n",
       "Combine `zipwith` and `starmap`"
      ],
      "text/plain": [
       "<IPython.core.display.Markdown object>"
      ]
     },
     "metadata": {},
     "output_type": "display_data"
    }
   ],
   "source": [
    "show_doc(L.map_zipwith)"
   ]
  },
  {
   "cell_type": "code",
   "execution_count": null,
   "metadata": {},
   "outputs": [],
   "source": [
    "test_eq(L(1,2,3).map_zipwith(operator.mul, [2,3,4]), [2,6,12])"
   ]
  },
  {
   "cell_type": "code",
   "execution_count": null,
   "metadata": {},
   "outputs": [
    {
     "data": {
      "text/markdown": [
       "<h4 id=\"L.itemgot\" class=\"doc_header\"><code>L.itemgot</code><a href=\"__main__.py#L71\" class=\"source_link\" style=\"float:right\">[source]</a></h4>\n",
       "\n",
       "> <code>L.itemgot</code>(**\\*`idxs`**)\n",
       "\n",
       "Create new [`L`](/foundation.html#L) with item `idx` of all `items`"
      ],
      "text/plain": [
       "<IPython.core.display.Markdown object>"
      ]
     },
     "metadata": {},
     "output_type": "display_data"
    }
   ],
   "source": [
    "show_doc(L.itemgot)"
   ]
  },
  {
   "cell_type": "code",
   "execution_count": null,
   "metadata": {},
   "outputs": [],
   "source": [
    "test_eq(t.itemgot(1), b)"
   ]
  },
  {
   "cell_type": "code",
   "execution_count": null,
   "metadata": {},
   "outputs": [
    {
     "data": {
      "text/markdown": [
       "<h4 id=\"L.attrgot\" class=\"doc_header\"><code>L.attrgot</code><a href=\"__main__.py#L76\" class=\"source_link\" style=\"float:right\">[source]</a></h4>\n",
       "\n",
       "> <code>L.attrgot</code>(**`k`**, **`default`**=*`None`*)\n",
       "\n",
       "Create new [`L`](/foundation.html#L) with attr `k` (or value `k` for dicts) of all `items`."
      ],
      "text/plain": [
       "<IPython.core.display.Markdown object>"
      ]
     },
     "metadata": {},
     "output_type": "display_data"
    }
   ],
   "source": [
    "show_doc(L.attrgot)"
   ]
  },
  {
   "cell_type": "code",
   "execution_count": null,
   "metadata": {},
   "outputs": [],
   "source": [
    "# Example when items are not a dict\n",
    "a = [SimpleNamespace(a=3,b=4),SimpleNamespace(a=1,b=2)]\n",
    "test_eq(L(a).attrgot('b'), [4,2])\n",
    "\n",
    "#Example of when items are a dict\n",
    "b =[{'id': 15, 'name': 'nbdev'}, {'id': 17, 'name': 'fastcore'}]\n",
    "test_eq(L(b).attrgot('id'), [15, 17])"
   ]
  },
  {
   "cell_type": "code",
   "execution_count": null,
   "metadata": {},
   "outputs": [
    {
     "data": {
      "text/markdown": [
       "<h4 id=\"L.sorted\" class=\"doc_header\"><code>L.sorted</code><a href=\"__main__.py#L42\" class=\"source_link\" style=\"float:right\">[source]</a></h4>\n",
       "\n",
       "> <code>L.sorted</code>(**`key`**=*`None`*, **`reverse`**=*`False`*)\n",
       "\n",
       "New [`L`](/foundation.html#L) sorted by `key`. If key is str use `attrgetter`; if int use `itemgetter`"
      ],
      "text/plain": [
       "<IPython.core.display.Markdown object>"
      ]
     },
     "metadata": {},
     "output_type": "display_data"
    }
   ],
   "source": [
    "show_doc(L.sorted)"
   ]
  },
  {
   "cell_type": "code",
   "execution_count": null,
   "metadata": {},
   "outputs": [],
   "source": [
    "test_eq(L(a).sorted('a').attrgot('b'), [2,4])"
   ]
  },
  {
   "cell_type": "code",
   "execution_count": null,
   "metadata": {},
   "outputs": [
    {
     "data": {
      "text/markdown": [
       "<h4 id=\"L.split\" class=\"doc_header\"><code>L.split</code><a href=\"__main__.py#L57\" class=\"source_link\" style=\"float:right\">[source]</a></h4>\n",
       "\n",
       "> <code>L.split</code>(**`s`**, **`sep`**=*`None`*, **`maxsplit`**=*`-1`*)\n",
       "\n",
       "Class Method: Same as `str.split`, but returns an [`L`](/foundation.html#L)"
      ],
      "text/plain": [
       "<IPython.core.display.Markdown object>"
      ]
     },
     "metadata": {},
     "output_type": "display_data"
    }
   ],
   "source": [
    "show_doc(L.split)"
   ]
  },
  {
   "cell_type": "code",
   "execution_count": null,
   "metadata": {},
   "outputs": [],
   "source": [
    "test_eq(L.split('a b c'), list('abc'))"
   ]
  },
  {
   "cell_type": "code",
   "execution_count": null,
   "metadata": {},
   "outputs": [
    {
     "data": {
      "text/markdown": [
       "<h4 id=\"L.range\" class=\"doc_header\"><code>L.range</code><a href=\"__main__.py#L59\" class=\"source_link\" style=\"float:right\">[source]</a></h4>\n",
       "\n",
       "> <code>L.range</code>(**`a`**, **`b`**=*`None`*, **`step`**=*`None`*)\n",
       "\n",
       "Class Method: Same as `range`, but returns [`L`](/foundation.html#L). Can pass collection for `a`, to use `len(a)`"
      ],
      "text/plain": [
       "<IPython.core.display.Markdown object>"
      ]
     },
     "metadata": {},
     "output_type": "display_data"
    }
   ],
   "source": [
    "show_doc(L.range)"
   ]
  },
  {
   "cell_type": "code",
   "execution_count": null,
   "metadata": {},
   "outputs": [],
   "source": [
    "test_eq_type(L.range([1,1,1]), L(range(3)))\n",
    "test_eq_type(L.range(5,2,2), L(range(5,2,2)))"
   ]
  },
  {
   "cell_type": "code",
   "execution_count": null,
   "metadata": {},
   "outputs": [
    {
     "data": {
      "text/markdown": [
       "<h4 id=\"L.concat\" class=\"doc_header\"><code>L.concat</code><a href=\"__main__.py#L98\" class=\"source_link\" style=\"float:right\">[source]</a></h4>\n",
       "\n",
       "> <code>L.concat</code>()\n",
       "\n",
       "Concatenate all elements of list"
      ],
      "text/plain": [
       "<IPython.core.display.Markdown object>"
      ]
     },
     "metadata": {},
     "output_type": "display_data"
    }
   ],
   "source": [
    "show_doc(L.concat)"
   ]
  },
  {
   "cell_type": "code",
   "execution_count": null,
   "metadata": {},
   "outputs": [],
   "source": [
    "test_eq(L([0,1,2,3],4,L(5,6)).concat(), range(7))"
   ]
  },
  {
   "cell_type": "code",
   "execution_count": null,
   "metadata": {},
   "outputs": [
    {
     "data": {
      "text/markdown": [
       "<h4 id=\"L.copy\" class=\"doc_header\"><code>L.copy</code><a href=\"__main__.py#L20\" class=\"source_link\" style=\"float:right\">[source]</a></h4>\n",
       "\n",
       "> <code>L.copy</code>()\n",
       "\n",
       "Same as `list.copy`, but returns an [`L`](/foundation.html#L)"
      ],
      "text/plain": [
       "<IPython.core.display.Markdown object>"
      ]
     },
     "metadata": {},
     "output_type": "display_data"
    }
   ],
   "source": [
    "show_doc(L.copy)"
   ]
  },
  {
   "cell_type": "code",
   "execution_count": null,
   "metadata": {},
   "outputs": [],
   "source": [
    "t = L([0,1,2,3],4,L(5,6)).copy()\n",
    "test_eq(t.concat(), range(7))"
   ]
  },
  {
   "cell_type": "code",
   "execution_count": null,
   "metadata": {},
   "outputs": [
    {
     "data": {
      "text/markdown": [
       "<h4 id=\"L.map_filter\" class=\"doc_header\"><code>L.map_filter</code><a href=\"__main__.py#L80\" class=\"source_link\" style=\"float:right\">[source]</a></h4>\n",
       "\n",
       "> <code>L.map_filter</code>(**`f`**=*`noop`*, **`g`**=*`noop`*, **\\*`args`**, **`gen`**=*`False`*, **\\*\\*`kwargs`**)\n",
       "\n",
       "Same as `map` with `f` followed by `filter` with `g`"
      ],
      "text/plain": [
       "<IPython.core.display.Markdown object>"
      ]
     },
     "metadata": {},
     "output_type": "display_data"
    }
   ],
   "source": [
    "show_doc(L.map_filter)"
   ]
  },
  {
   "cell_type": "code",
   "execution_count": null,
   "metadata": {},
   "outputs": [],
   "source": [
    "t = L(0,1,2,3)\n",
    "test_eq(t.map_filter(lambda o:o*2, lambda o:o<5), L(0,2,4))"
   ]
  },
  {
   "cell_type": "code",
   "execution_count": null,
   "metadata": {},
   "outputs": [
    {
     "data": {
      "text/markdown": [
       "<h4 id=\"L.map_first\" class=\"doc_header\"><code>L.map_first</code><a href=\"__main__.py#L84\" class=\"source_link\" style=\"float:right\">[source]</a></h4>\n",
       "\n",
       "> <code>L.map_first</code>(**`f`**=*`noop`*, **`g`**=*`noop`*, **\\*`args`**, **\\*\\*`kwargs`**)\n",
       "\n",
       "First element of `map_filter`"
      ],
      "text/plain": [
       "<IPython.core.display.Markdown object>"
      ]
     },
     "metadata": {},
     "output_type": "display_data"
    }
   ],
   "source": [
    "show_doc(L.map_first)"
   ]
  },
  {
   "cell_type": "code",
   "execution_count": null,
   "metadata": {},
   "outputs": [],
   "source": [
    "t = L(0,1,2,3)\n",
    "test_eq(t.map_first(lambda o:o*2 if o>2 else None), 6)"
   ]
  },
  {
   "cell_type": "code",
   "execution_count": null,
   "metadata": {},
   "outputs": [
    {
     "data": {
      "text/markdown": [
       "<h4 id=\"L.setattrs\" class=\"doc_header\"><code>L.setattrs</code><a href=\"__main__.py#L102\" class=\"source_link\" style=\"float:right\">[source]</a></h4>\n",
       "\n",
       "> <code>L.setattrs</code>(**`attr`**, **`val`**)\n",
       "\n",
       "Call `setattr` on all items"
      ],
      "text/plain": [
       "<IPython.core.display.Markdown object>"
      ]
     },
     "metadata": {},
     "output_type": "display_data"
    }
   ],
   "source": [
    "show_doc(L.setattrs)"
   ]
  },
  {
   "cell_type": "code",
   "execution_count": null,
   "metadata": {},
   "outputs": [],
   "source": [
    "t = L(SimpleNamespace(),SimpleNamespace())\n",
    "t.setattrs('foo', 'bar')\n",
    "test_eq(t.attrgot('foo'), ['bar','bar'])"
   ]
  },
  {
   "cell_type": "markdown",
   "metadata": {},
   "source": [
    "## Config -"
   ]
  },
  {
   "cell_type": "code",
   "execution_count": null,
   "metadata": {},
   "outputs": [],
   "source": [
    "#export\n",
    "def save_config_file(file, d, **kwargs):\n",
    "    \"Write settings dict to a new config file, or overwrite the existing one.\"\n",
    "    config = ConfigParser(**kwargs)\n",
    "    config['DEFAULT'] = d\n",
    "    config.write(open(file, 'w'))"
   ]
  },
  {
   "cell_type": "code",
   "execution_count": null,
   "metadata": {},
   "outputs": [],
   "source": [
    "#export\n",
    "def read_config_file(file, **kwargs):\n",
    "    config = ConfigParser(**kwargs)\n",
    "    config.read(file)\n",
    "    return config"
   ]
  },
  {
   "cell_type": "markdown",
   "metadata": {},
   "source": [
    "Config files are saved and read using Python's `configparser.ConfigParser`, inside the `DEFAULT` section."
   ]
  },
  {
   "cell_type": "code",
   "execution_count": null,
   "metadata": {},
   "outputs": [],
   "source": [
    "_d = dict(user='fastai', lib_name='fastcore', some_path='test')\n",
    "try:\n",
    "    save_config_file('tmp.ini', _d)\n",
    "    res = read_config_file('tmp.ini')\n",
    "finally: os.unlink('tmp.ini')\n",
    "test_eq(res['DEFAULT'], _d)"
   ]
  },
  {
   "cell_type": "code",
   "execution_count": null,
   "metadata": {},
   "outputs": [],
   "source": [
    "#export\n",
    "def _add_new_defaults(cfg, file, **kwargs):\n",
    "    for k,v in kwargs.items():\n",
    "        if cfg.get(k, None) is None:\n",
    "            cfg[k] = v\n",
    "            save_config_file(file, cfg)"
   ]
  },
  {
   "cell_type": "code",
   "execution_count": null,
   "metadata": {},
   "outputs": [],
   "source": [
    "#export\n",
    "@lru_cache(maxsize=None)\n",
    "class Config:\n",
    "    \"Reading and writing `settings.ini`\"\n",
    "    def __init__(self, cfg_name='settings.ini'):\n",
    "        cfg_path = Path.cwd()\n",
    "        while cfg_path != cfg_path.parent and not (cfg_path/cfg_name).exists(): cfg_path = cfg_path.parent\n",
    "        self.config_path,self.config_file = cfg_path,cfg_path/cfg_name\n",
    "        assert self.config_file.exists(), f\"Could not find {cfg_name}\"\n",
    "        self.d = read_config_file(self.config_file)['DEFAULT']\n",
    "        _add_new_defaults(self.d, self.config_file,\n",
    "                         host=\"github\", doc_host=\"https://%(user)s.github.io\", doc_baseurl=\"/%(lib_name)s/\")\n",
    "\n",
    "    def __setitem__(self,k,v): self.d[k] = str(v)\n",
    "    def __contains__(self,k):  return k in self.d\n",
    "    def save(self):            save_config_file(self.config_file,self.d)\n",
    "    def __getattr__(self,k):   return stop(AttributeError(k)) if k=='d' or k not in self.d else self.get(k)\n",
    "    def get(self,k,default=None): return self.d.get(k, default)\n",
    "    def path(self,k,default=None):\n",
    "        v = self.get(k, default)\n",
    "        return v if v is None else self.config_path/v"
   ]
  },
  {
   "cell_type": "markdown",
   "metadata": {},
   "source": [
    "`Config` searches parent directories for a config file, and provides direct access to the 'DEFAULT' section. Keys ending in `_path` are converted to paths in the config file's directory."
   ]
  },
  {
   "cell_type": "code",
   "execution_count": null,
   "metadata": {},
   "outputs": [],
   "source": [
    "try:\n",
    "    save_config_file('../tmp.ini', _d)\n",
    "    cfg = Config('tmp.ini')\n",
    "finally: os.unlink('../tmp.ini')\n",
    "\n",
    "test_eq(cfg.user,'fastai')\n",
    "test_eq(cfg.doc_baseurl,'/fastcore/')\n",
    "test_eq(cfg.get('some_path'), 'test')\n",
    "test_eq(cfg.path('some_path'), Path('../test').resolve())\n",
    "test_eq(cfg.get('foo','bar'),'bar')"
   ]
  },
  {
   "cell_type": "markdown",
   "metadata": {},
   "source": [
    "# Export -"
   ]
  },
  {
   "cell_type": "code",
   "execution_count": null,
   "metadata": {},
   "outputs": [
    {
     "name": "stdout",
     "output_type": "stream",
     "text": [
      "Converted 00_test.ipynb.\n",
      "Converted 01_foundation.ipynb.\n",
      "Converted 02_utils.ipynb.\n",
      "Converted 03_dispatch.ipynb.\n",
      "Converted 04_transform.ipynb.\n",
      "Converted 05_logargs.ipynb.\n",
      "Converted 06_meta.ipynb.\n",
      "Converted 07_script.ipynb.\n",
      "Converted index.ipynb.\n"
     ]
    }
   ],
   "source": [
    "#hide\n",
    "from nbdev.export import notebook2script\n",
    "notebook2script()"
   ]
  },
  {
   "cell_type": "code",
   "execution_count": null,
   "metadata": {},
   "outputs": [],
   "source": []
  }
 ],
 "metadata": {
  "jupytext": {
   "split_at_heading": true
  },
  "kernelspec": {
   "display_name": "Python 3",
   "language": "python",
   "name": "python3"
  }
 },
 "nbformat": 4,
 "nbformat_minor": 4
}
